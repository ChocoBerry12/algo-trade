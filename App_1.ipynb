{
 "cells": [
  {
   "cell_type": "markdown",
   "metadata": {},
   "source": [
    "# App - 1"
   ]
  },
  {
   "cell_type": "code",
   "execution_count": 13,
   "metadata": {},
   "outputs": [],
   "source": [
    "import nbimporter\n",
    "import autologin\n",
    "import sys\n",
    "from PyQt5.QtWidgets import *\n",
    "from PyQt5 import uic\n",
    "import win32com.client\n",
    "import ctypes\n",
    "import pandas as pd\n",
    "import os\n",
    "import time\n",
    "import numpy as np"
   ]
  },
  {
   "cell_type": "code",
   "execution_count": 2,
   "metadata": {},
   "outputs": [
    {
     "name": "stdout",
     "output_type": "stream",
     "text": [
      "Cybos Plus - 로그인 중...\n",
      "Cybos Plus - 접속 중...\n",
      "Cybos Plus - 접속 성공.\n"
     ]
    },
    {
     "data": {
      "text/plain": [
       "True"
      ]
     },
     "execution_count": 2,
     "metadata": {},
     "output_type": "execute_result"
    }
   ],
   "source": [
    "# 대신증권 Cybos Plus 자동 로그인\n",
    "auto_log = autologin.cp_login()\n",
    "auto_log.connect()"
   ]
  },
  {
   "cell_type": "code",
   "execution_count": 2,
   "metadata": {},
   "outputs": [],
   "source": [
    "# API 모듈 import\n",
    "obj_codeMgr = win32com.client.Dispatch('CpUtil.CpCodeMgr') # 종목정보\n",
    "obj_cpStatus = win32com.client.Dispatch('CpUtil.CpCybos') # 연결, 상태 정보\n",
    "obj_cpTrade = win32com.client.Dispatch('CpTrade.CpTdUtil') # 거래 초기화\n",
    "obj_cpTd0311 = win32com.client.Dispatch('CpTrade.CpTd0311') # 거래 오브젝트\n",
    "obj_stockMst = win32com.client.Dispatch(\"DsCbo1.StockMst\") # 현재가\n",
    "obj_stockChart = win32com.client.Dispatch(\"CpSysDib.StockChart\") # 차트 데이터"
   ]
  },
  {
   "cell_type": "code",
   "execution_count": 5,
   "metadata": {},
   "outputs": [
    {
     "name": "stdout",
     "output_type": "stream",
     "text": [
      "Cybos Plus - 정상 (관리자권한으로 실행된 프로세스입니다.)\n",
      "Cybos Plus - 주문 초기화 완료\n"
     ]
    },
    {
     "data": {
      "text/plain": [
       "True"
      ]
     },
     "execution_count": 5,
     "metadata": {},
     "output_type": "execute_result"
    }
   ],
   "source": [
    "# 상태 체크\n",
    "def init_pluscheck():\n",
    "    # 프로세스가 관리자 권한으로 실행 여부\n",
    "    if ctypes.windll.shell32.IsUserAnAdmin():\n",
    "        print('Cybos Plus - 정상 (관리자권한으로 실행된 프로세스입니다.)')\n",
    "    else:\n",
    "        print('Cybos Plus - 오류 (일반권한으로 실행됨. 관리자 권한으로 실행해 주세요)')\n",
    "        return False\n",
    " \n",
    "    # 연결 여부 체크\n",
    "    if (obj_cpStatus.IsConnect == 0):\n",
    "        print(\"Cybos Plus - PLUS 가 정상적으로 연결되지 않음. \")\n",
    "        return False\n",
    "    \n",
    "    # 주문 관련 초기화\n",
    "    if (obj_cpTrade.TradeInit(0) != 0):\n",
    "        print(\"Cybos Plus - 주문 초기화 실패\")\n",
    "        return False\n",
    "    else:\n",
    "        print('Cybos Plus - 주문 초기화 완료')\n",
    "    return True\n",
    "\n",
    "init_pluscheck()"
   ]
  },
  {
   "cell_type": "code",
   "execution_count": 6,
   "metadata": {},
   "outputs": [
    {
     "name": "stdout",
     "output_type": "stream",
     "text": [
      "거래소 종목 수 : 1531\n",
      "코스닥 종목 수 : 1355\n"
     ]
    }
   ],
   "source": [
    "'''\n",
    " ================\n",
    "| 종목 리스트 관련\n",
    "| 리스트 구하고 저장\n",
    " ================\n",
    "'''\n",
    "\n",
    "codelist_market = obj_codeMgr.GetStockListByMarket(1) # 인자는 시장구분, 인자가 1 이면 거래소, 2 는 코스닥\n",
    "codelist_kosdaq = obj_codeMgr.GetStockListByMarket(2) # 인자는 시장구분, 인자가 1 이면 거래소, 2 는 코스닥\n",
    "\n",
    "len_market = len(codelist_market)\n",
    "len_kosdaq = len(codelist_kosdaq)\n",
    "\n",
    "print('거래소 종목 수 :', len_market)\n",
    "print('코스닥 종목 수 :', len_kosdaq)\n",
    "\n",
    "code_total = {} # 코스닥 종목만 저장\n",
    "\n",
    "# {종목명 : 코드} 로 저장\n",
    "for code in codelist_kosdaq:\n",
    "    name = obj_codeMgr.CodeToName(code)\n",
    "    code_total[name] = code\n",
    "\n",
    "for d in code_total:\n",
    "    #print(d, code_info[d])\n",
    "    pass"
   ]
  },
  {
   "cell_type": "code",
   "execution_count": 26,
   "metadata": {},
   "outputs": [
    {
     "name": "stdout",
     "output_type": "stream",
     "text": [
      "탐색중..\n",
      "선택 종목:  피제이전자\n",
      "272 10\n",
      "4690.0 4810\n",
      "선택 종목:  대원\n",
      "11250 10700\n",
      "13530.0 13850\n",
      "선택 종목:  원풍물산\n",
      "13689 13507\n",
      "4049.0 4090\n",
      "선택 종목:  삼보산업\n",
      "44338 23312\n",
      "2027.0 2105\n",
      "선택 종목:  코센\n",
      "66385 76267\n",
      "1445.0 1485\n",
      "탐색완료.\n"
     ]
    },
    {
     "data": {
      "text/plain": [
       "{'피제이전자': 'A006140',\n",
       " '대원': 'A007680',\n",
       " '원풍물산': 'A008290',\n",
       " '삼보산업': 'A009620',\n",
       " '코센': 'A009730'}"
      ]
     },
     "execution_count": 26,
     "metadata": {},
     "output_type": "execute_result"
    }
   ],
   "source": [
    "'''\n",
    " ================\n",
    "| 특징주 탐색\n",
    "| 주가, 주문량, 거래량 등등으로\n",
    "| 일반통신(RQ/RP)의 경우는 15초에 최대 60건수까지 가능. (초당 4 개)\n",
    "| 실시간 통신(SB/PB)는 고객등급 차이 없이 동일한 서비스 제공. 주식종목 실시간을 400종목까지 등록가능.\n",
    " ================\n",
    "'''\n",
    "\n",
    "selected_list = {} # 모든 종목을 특정 조건에 따라 걸러 딕셔너리로 저장. {종목명 : 코드}\n",
    "selected_list_names = [] # 걸러진 종목의 종목명만 따로 저장.\n",
    "\n",
    "# 주가로 거르기\n",
    "# 중복 처리하기\n",
    "def selectby_items():\n",
    "\n",
    "    print('탐색중..')\n",
    "    cnt = 0\n",
    "    \n",
    "    for name in code_total:\n",
    "        cnt += 1\n",
    "        # 대기 창 안 뜨도록 내부적으로 대기\n",
    "        if(cnt % 4 == 0):\n",
    "            time.sleep(1.5)\n",
    "            pass\n",
    "        \n",
    "        # 현재가\n",
    "        obj_stockMst.SetInputValue(0, code_total[name])\n",
    "        req_result = obj_stockMst.BlockRequest()\n",
    "        \n",
    "        # 15 초 당 60 건 초과 시 처리\n",
    "        if(req_result == 4):\n",
    "            print('과다 요청. 대기')\n",
    "        \n",
    "        # 현재가 통신 및 통신 에러 처리 \n",
    "        rqStatus = obj_stockMst.GetDibStatus()\n",
    "        rqRet = obj_stockMst.GetDibMsg1()\n",
    "        #print(\"통신상태\", rqStatus, rqRet)\n",
    "        if rqStatus != 0:\n",
    "            exit()\n",
    "\n",
    "        # 현재가 정보 조회\n",
    "        #code = obj_stockMst.GetHeaderValue(0)  #종목코드\n",
    "        #name= obj_stockMst.GetHeaderValue(1)  # 종목명\n",
    "        t = obj_stockMst.GetHeaderValue(4)  # 시간\n",
    "        cprice = obj_stockMst.GetHeaderValue(11) # 현재가\n",
    "        diff = obj_stockMst.GetHeaderValue(12)  # 전일 대비\n",
    "        open = obj_stockMst.GetHeaderValue(13)  # 시가\n",
    "        high = obj_stockMst.GetHeaderValue(14)  # 고가\n",
    "        low = obj_stockMst.GetHeaderValue(15)   # 저가\n",
    "        offer = obj_stockMst.GetHeaderValue(16)  #매도호가\n",
    "        bid = obj_stockMst.GetHeaderValue(17)   #매수호가\n",
    "        vol = obj_stockMst.GetHeaderValue(18)   #거래량\n",
    "        vol_value = obj_stockMst.GetHeaderValue(19)  #거래대금\n",
    "        offer_vol = 0 # 10 차 총 매도 잔량\n",
    "        bid_vol = 0 # 10 차 총 매수 잔량\n",
    "        \n",
    "        # 10차 총 매도수 잔량계산\n",
    "        for i in range(10):\n",
    "            #rtMst.offer.append(self.objStockMst.GetDataValue(0, i))  # 매도호가\n",
    "            #rtMst.bid.append(self.objStockMst.GetDataValue(1, i) ) # 매수호가\n",
    "            offer_vol += obj_stockMst.GetDataValue(2, i)  # 매도호가 잔량\n",
    "            bid_vol += obj_stockMst.GetDataValue(3, i) # 매수호가 잔량\n",
    "        \n",
    "        # -----------------\n",
    "        # 특정 조건으로 거르기\n",
    "        # ------------------\n",
    "        \n",
    "        # 거래량으로 거르기\n",
    "        if(vol < 2000):\n",
    "            continue\n",
    "        \n",
    "        # 거래대금으로 거르기\n",
    "        if(vol_value < 20000):\n",
    "            continue\n",
    "        \n",
    "        # 호가 정보로 거르기\n",
    "        if(bid_vol < offer_vol):\n",
    "            continue\n",
    "        \n",
    "        # 과거 5일 데이터 가져와서 지표계산\n",
    "        obj_stockChart.SetInputValue(0, code_total[name])   #종목 코드\n",
    "        obj_stockChart.SetInputValue(1, ord('2')) # 개수로 조회\n",
    "        obj_stockChart.SetInputValue(4, 5) # 최근 100일 치\n",
    "        obj_stockChart.SetInputValue(5, [0,2,3,4,5,8]) #날짜,시가,고가,저가,종가,거래량\n",
    "        obj_stockChart.SetInputValue(6, ord('D')) # '차트 주가 - 일간 차트 요청\n",
    "        obj_stockChart.SetInputValue(9, ord('1')) # 수정주가 사용\n",
    "        \n",
    "        req_result = obj_stockChart.BlockRequest()\n",
    "        if(req_result == 4):\n",
    "            print('과다 요청. 대기')\n",
    "        \n",
    "        len_day = obj_stockChart.GetHeaderValue(3)\n",
    "        value_mean = 0\n",
    "        for i in range(len_day):\n",
    "            value_mean += obj_stockChart.GetDataValue(4, i)\n",
    "        value_mean = int(value_mean / 5) # 5 일 평균 종가\n",
    "        \n",
    "        # 현재가로 거르기\n",
    "        if(cprice < value_mean):\n",
    "            continue\n",
    "        \n",
    "        # 다 걸러졌으면 관심종목에 추가\n",
    "        if(len(selected_list) < 5):\n",
    "            print('선택 종목: ', name)\n",
    "            print(offer_vol, bid_vol)\n",
    "            print(value_mean, cprice)\n",
    "            selected_list[name] = code_total[name]\n",
    "        # 최대 저장크기 넘어가면 걍 종료\n",
    "        else:\n",
    "            break\n",
    "    \n",
    "    print('탐색완료.')\n",
    "\n",
    "selectby_items()\n",
    "selected_list_names = list(selected_list.keys())\n",
    "selected_list"
   ]
  },
  {
   "cell_type": "code",
   "execution_count": 8,
   "metadata": {},
   "outputs": [],
   "source": [
    "'''\n",
    " ================\n",
    "| 차트 (장시작 ~ 현재. 1 분봉) 그리는 데 사용될 class\n",
    " ================\n",
    "'''\n",
    "class a():\n",
    "    pass"
   ]
  },
  {
   "cell_type": "code",
   "execution_count": 9,
   "metadata": {},
   "outputs": [],
   "source": [
    "'''\n",
    " ================\n",
    "| 주문 관련\n",
    " ================\n",
    "'''\n",
    "class Trade():\n",
    "\n",
    "    def __init__(self, acc_num):\n",
    "        self.account_num = acc_num\n",
    "    \n",
    "    # 현금 매수\n",
    "    def buy(self, item):\n",
    "        accFlag = obj_cpTrade.GoodsList(self.account_num, 1)  # 주식상품 구분\n",
    "        print(self.account_num, accFlag[0])\n",
    "        obj_cpTd0311.SetInputValue(0, 2) # 첫번째인자 : 주문종류코드, 두번째인자 : 매도(1)/매수(2)\n",
    "        obj_cpTd0311.SetInputValue(1, self.account_num) # 계좌, 계좌번호 값\n",
    "        obj_cpTd0311.SetInputValue(2, accFlag[0])   # 상품구분 - 주식 상품 중 첫번째\n",
    "        obj_cpTd0311.SetInputValue(3, item) # 종목코드, 코드 값 (대신증권 주식)\n",
    "        obj_cpTd0311.SetInputValue(4, 10) # 주문 수량\n",
    "        obj_cpTd0311.SetInputValue(5, 46150) # 주문 단가\n",
    "        obj_cpTd0311.SetInputValue(7, 0)   # 주문 조건 구분 코드, 0: 기본 1: IOC 2:FOK\n",
    "        obj_cpTd0311.SetInputValue(8, \"01\")   # 주문호가 구분코드 - 01: 보통\n",
    "\n",
    "        # 요청\n",
    "        obj_cpTd0311.BlockRequest() # \n",
    "\n",
    "        # 확인은 conclusion 클래스로\n",
    "        if obj_cpTd0311.GetDibStatus() != 0:\n",
    "            print(\"통신상태\", obj_cpTd0311.GetDibStatus(), obj_cpTd0311.GetDibMsg1())\n",
    "        else:\n",
    "            print(\"예약주문 성공, 예약번호 #\")\n",
    "\n",
    "\n",
    "    # 현금 매도\n",
    "    def sell(self, item):\n",
    "        accFlag = obj_cpTrade.GoodsList(self.account_num, 1)  # 주식상품 구분\n",
    "        print(self.account_num, accFlag[0])\n",
    "        obj_cpTd0311 = win32com.client.Dispatch(\"CpTrade.CpTd0311\")\n",
    "        obj_cpTd0311.SetInputValue(0, \"1\")   #  1: 매도\n",
    "        obj_cpTd0311.SetInputValue(1, self.account_num )   #  계좌번호\n",
    "        obj_cpTd0311.SetInputValue(2, accFlag[0])   #  상품구분 - 주식 상품 중 첫번째\n",
    "        obj_cpTd0311.SetInputValue(3, item)   #  종목코드 - A003540 - 대신증권 종목\n",
    "        obj_cpTd0311.SetInputValue(4, 1)   #  매도수량 10주\n",
    "        obj_cpTd0311.SetInputValue(5, 14100)   #  주문단가  - 14,100원\n",
    "        obj_cpTd0311.SetInputValue(7, \"0\")   #  주문 조건 구분 코드, 0: 기본 1: IOC 2:FOK\n",
    "        obj_cpTd0311.SetInputValue(8, \"01\")   # 주문호가 구분코드 - 01: 보통\n",
    "\n",
    "        # 매도 주문 요청\n",
    "        obj_cpTd0311.BlockRequest()\n",
    "\n",
    "        rqStatus = obj_cpTd0311.GetDibStatus()\n",
    "        rqRet = cpTd0311.GetDibMsg1()\n",
    "        print(\"통신상태\", rqStatus, rqRet)\n",
    "        if rqStatus != 0:\n",
    "            exit()"
   ]
  },
  {
   "cell_type": "code",
   "execution_count": 10,
   "metadata": {},
   "outputs": [],
   "source": [
    "'''\n",
    " ================\n",
    "| 트레이딩 관련\n",
    " ================\n",
    "'''\n",
    "\n",
    "# 매도 타이밍 잡고 바로 팔기\n",
    "def _sell():\n",
    "    # 수익률 2 % 나면 자동 sell\n",
    "    sell()"
   ]
  },
  {
   "cell_type": "code",
   "execution_count": 11,
   "metadata": {},
   "outputs": [],
   "source": [
    "'''\n",
    " ============\n",
    "| Designer 로 미리 만든 UI Form 불러오기\n",
    "| UI 이벤트 함수 정의\n",
    " ============\n",
    "'''\n",
    "\n",
    "form = uic.loadUiType('C:\\\\Users\\\\김민수\\\\Desktop\\\\Trader.ui')[0]\n",
    "\n",
    "class myWindow(QMainWindow, form):\n",
    "    def __init__(self):\n",
    "        super().__init__()\n",
    "        self.setupUi(self) # UI 셋팅\n",
    "        self.cur_selected_item = selected_list_names[0] # 현재 선택한 종목을 종목명으로 저장; 첫 리스트로 초기화\n",
    "        self.obj_trade = Trade(obj_cpTrade.AccountNumber[0]) # 주문 관련 객체 생성\n",
    "        \n",
    "        # -- UI 이벤트 콜백함수 등록 --\n",
    "        self.btn_search.clicked.connect(self.btn_search_clicked)\n",
    "        self.btn_buy.clicked.connect(self.btn_buy_clicked)\n",
    "        self.combo_stock_item.currentIndexChanged.connect(self.selectionChanged)\n",
    "    \n",
    "    # -----------\n",
    "    # - 이벤트 함수  \n",
    "    # ---------\n",
    "    # 탐색\n",
    "    def btn_search_clicked(self):\n",
    "        self.combo_add_items()\n",
    "        pass\n",
    "    \n",
    "    # 매수\n",
    "    def btn_buy_clicked(self):\n",
    "        QMessageBox.about(self, \"message\", \"clicked\")\n",
    "        item = selected_list[self.cur_selected_item]\n",
    "        print(item)\n",
    "        self.obj_trade.buy(item)\n",
    "        \n",
    "    # 콤보박스에 탐색한 종목 추가\n",
    "    def combo_add_items(self):\n",
    "        self.combo_stock_item.addItems(list(selected_list.keys()))\n",
    "        \n",
    "    # 콤보박스에서 종목 선택시 차트 그리기\n",
    "    def selectionChanged(self):\n",
    "        self.cur_selected_item = self.combo_stock_item.currentText()\n",
    "        idx = self.combo_stock_item.currentIndex()\n",
    "        self.label_cur_item.setText('현재 종목 : {}'.format(self.cur_selected_item))"
   ]
  },
  {
   "cell_type": "code",
   "execution_count": 12,
   "metadata": {},
   "outputs": [
    {
     "name": "stdout",
     "output_type": "stream",
     "text": [
      "A000250\n",
      "335021511 10\n",
      "예약주문 성공, 예약번호 #\n"
     ]
    }
   ],
   "source": [
    "'''\n",
    " ============\n",
    "| UI Form\n",
    "| Main\n",
    " ============\n",
    "'''\n",
    "\n",
    "if __name__ == '__main__':\n",
    "    app = QApplication.instance()\n",
    "    if app is None:\n",
    "        app = QApplication(sys.argv)\n",
    "    else:\n",
    "        print('QApplication instance already exists: %s' % str(app))\n",
    "\n",
    "    window = myWindow()\n",
    "    #window.setGeometry(100, 100, 500, 300)\n",
    "    #window.setWindowTitle(\"PyQT Tuts!\")\n",
    "    window.show()\n",
    "    app.exec_()\n",
    "    app.exit()"
   ]
  },
  {
   "cell_type": "code",
   "execution_count": 132,
   "metadata": {},
   "outputs": [
    {
     "data": {
      "text/plain": [
       "dict_items([('삼천당제약', 'A000250'), ('선광', 'A003100'), ('하림지주', 'A003380'), ('창해에탄올', 'A004650'), ('동진쎄미켐', 'A005290')])"
      ]
     },
     "execution_count": 132,
     "metadata": {},
     "output_type": "execute_result"
    }
   ],
   "source": [
    "selected_list.items()"
   ]
  }
 ],
 "metadata": {
  "kernelspec": {
   "display_name": "Python 3",
   "language": "python",
   "name": "python3"
  },
  "language_info": {
   "codemirror_mode": {
    "name": "ipython",
    "version": 3
   },
   "file_extension": ".py",
   "mimetype": "text/x-python",
   "name": "python",
   "nbconvert_exporter": "python",
   "pygments_lexer": "ipython3",
   "version": "3.6.8"
  }
 },
 "nbformat": 4,
 "nbformat_minor": 2
}
