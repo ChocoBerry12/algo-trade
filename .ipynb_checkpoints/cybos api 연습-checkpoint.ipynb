{
 "cells": [
  {
   "cell_type": "markdown",
   "metadata": {},
   "source": [
    "# Cybos Plus API 연습\n",
    "---\n",
    "## 주의\n",
    "* 증권사 api 는 python 32 bit 환경에서만 돌아감.\n",
    "* 32 bit jupyter 를 반드시 관리자 권한으로 실행"
   ]
  },
  {
   "cell_type": "markdown",
   "metadata": {},
   "source": [
    "## 연결 상태 확인\n",
    "* cybos plus 에 로그인 해야 가능한듯?"
   ]
  },
  {
   "cell_type": "code",
   "execution_count": 22,
   "metadata": {},
   "outputs": [
    {
     "name": "stdout",
     "output_type": "stream",
     "text": [
      "결과 : 1\n"
     ]
    }
   ],
   "source": [
    "import win32com.client\n",
    "import numpy as np\n",
    "import time\n",
    "\n",
    "instCpCybos = win32com.client.Dispatch(\"CpUtil.CpCybos\") # CyUil 에 있는 CpCybos 클래스 기져와서 객체 생성\n",
    "print('결과 : ' + str(instCpCybos.IsConnect)) # 연결되면 1, 안되면 0"
   ]
  },
  {
   "cell_type": "markdown",
   "metadata": {},
   "source": [
    "## 주식코드 조회\n",
    "---\n",
    "* 상장된 종목 데이터 다루기"
   ]
  },
  {
   "cell_type": "code",
   "execution_count": 2,
   "metadata": {},
   "outputs": [
    {
     "name": "stdout",
     "output_type": "stream",
     "text": [
      "3168\n",
      "동화약품\n",
      "A035420 886\n"
     ]
    }
   ],
   "source": [
    "stockCode = win32com.client.Dispatch(\"CpUtil.CpStockCode\")\n",
    "print(stockCode.GetCount()) # 상장된 모든 종목 수\n",
    "print(stockCode.GetData(1, 0)) # 첫 번째 인자의 값이 0이면 종목 코드를, 1이면 종목명을, 2면 FullCode를 리턴합니다.\n",
    "\n",
    "# code 찾기\n",
    "code_naver = stockCode.NameToCode('NAVER')\n",
    "index_naver = stockCode.CodeToIndex(code_naver)\n",
    "print(code_naver, index_naver) # 종목이름으로 code 와 code index 검색"
   ]
  },
  {
   "cell_type": "markdown",
   "metadata": {},
   "source": [
    "## 종목코드 가져오기"
   ]
  },
  {
   "cell_type": "code",
   "execution_count": 6,
   "metadata": {},
   "outputs": [
    {
     "data": {
      "text/plain": [
       "'\\n# csv 로 저장\\nf = open(\\'c:\\\\Users\\\\김민수\\\\Desktop\\\\stock.csv\\', \\'w\\')\\nfor key, value in kospi.items():\\n    f.write(\"%s,%s\\n\" % (key, value))\\nf.close()'"
      ]
     },
     "execution_count": 6,
     "metadata": {},
     "output_type": "execute_result"
    }
   ],
   "source": [
    "cpCodeMgr = win32com.client.Dispatch('CpUtil.CpCodeMgr') # CpCodeMgr 클래스 객체 생성\n",
    "codeList = cpCodeMgr.GetStockListByMarket(1) # 인자는 시장구분, 인자가 1 이면 유가증권시장\n",
    "#print(codeList)\n",
    "\n",
    "# 딕셔너리로 이름과 코드 저장\n",
    "kospi = {}\n",
    "for code in codeList:\n",
    "    name = cpCodeMgr.CodeToName(code)\n",
    "    kospi[code] = name\n",
    "    pass\n",
    "\n",
    "'''\n",
    "# csv 로 저장\n",
    "f = open('c:\\\\Users\\\\김민수\\\\Desktop\\\\stock.csv', 'w')\n",
    "for key, value in kospi.items():\n",
    "    f.write(\"%s,%s\\n\" % (key, value))\n",
    "f.close()'''"
   ]
  },
  {
   "cell_type": "markdown",
   "metadata": {},
   "source": [
    "## 과거 데이터 가져오기\n",
    "---\n",
    "* StockChart 클래스는 RQ/RP 통신 방식\n",
    "* 다른 통신방식으로 SB/PB 방식도 있음\n",
    "* 만들어진 stockChart 객체는 통신객체 - 데이터 요청하고 받은 데이터를 저장함"
   ]
  },
  {
   "cell_type": "code",
   "execution_count": 4,
   "metadata": {},
   "outputs": [
    {
     "name": "stdout",
     "output_type": "stream",
     "text": [
      "10\n",
      "13000\n",
      "13100\n",
      "13150\n",
      "13050\n",
      "12950\n",
      "13150\n",
      "13450\n",
      "13450\n",
      "13400\n",
      "13900\n"
     ]
    }
   ],
   "source": [
    "stockChart = win32com.client.Dispatch('CpSysDib.StockChart')\n",
    "stockChart.SetInputValue(0, 'A003540') # 요청하려는 데이터 셋팅, 첫번째 인자는 타입(0 은 종목코드), 두번쨰 인자는 값,\n",
    "stockChart.SetInputValue(1, ord('2')) # 1 은 해당 종목조회방식을 지정, 1 은 기간, 2 는 갯수\n",
    "stockChart.SetInputValue(4, 10) # 4 는 요청갯수, 일(day) 단위\n",
    "stockChart.SetInputValue(5, 5) # 5 는 조회데이터 종류, 뒤 인자 5 는 종가데이터\n",
    "stockChart.SetInputValue(6, ord('D')) # 6 은 차트 종류\n",
    "stockChart.SetInputValue(9, ord('1'))\n",
    "\n",
    "# blockRequest 는 서버에서 응답이 오기전까지 대기한다.\n",
    "stockChart.BlockRequest()\n",
    "numData = stockChart.GetHeaderValue(3)\n",
    "print(numData)\n",
    "\n",
    "# 위에서 요청한 10일간 종가데이터 조회\n",
    "for i in range(numData):\n",
    "    print(stockChart.GetDataValue(0, i))"
   ]
  },
  {
   "cell_type": "code",
   "execution_count": 5,
   "metadata": {},
   "outputs": [
    {
     "name": "stdout",
     "output_type": "stream",
     "text": [
      "10\n",
      "20190715 13150 13150 12900 13000 136203 \n",
      "20190712 13200 13200 13050 13100 41145 \n",
      "20190711 13050 13200 12950 13150 98833 \n",
      "20190710 13000 13100 12850 13050 101875 \n",
      "20190709 13100 13250 12950 12950 91520 \n",
      "20190708 13400 13400 13050 13150 179265 \n",
      "20190705 13450 13550 13300 13450 164548 \n",
      "20190704 13400 13500 13250 13450 111843 \n",
      "20190703 13900 13900 13250 13400 249028 \n",
      "20190702 13950 13950 13750 13900 78153 \n"
     ]
    }
   ],
   "source": [
    "stockChart = win32com.client.Dispatch('CpSysDib.StockChart')\n",
    "stockChart.SetInputValue(0, 'A003540')\n",
    "stockChart.SetInputValue(1, ord('2'))\n",
    "stockChart.SetInputValue(4, 10)\n",
    "stockChart.SetInputValue(5, (0, 2, 3, 4, 5, 8)) # (일자, 시가, 고가, 저가, 종가, 거래량) 요청\n",
    "stockChart.SetInputValue(6, ord('D'))\n",
    "stockChart.SetInputValue(9, ord('1'))\n",
    "\n",
    "stockChart.BlockRequest()\n",
    "numData = stockChart.GetHeaderValue(3)\n",
    "numField = stockChart.GetHeaderValue(1)\n",
    "print(numData)\n",
    "\n",
    "# 6 개의 데이터를 중첩 for 문으로 모두 출력\n",
    "for i in range(numData):\n",
    "    for d in range(numField):\n",
    "        print(stockChart.GetDataValue(d, i), end=' ')\n",
    "    print('')"
   ]
  },
  {
   "cell_type": "markdown",
   "metadata": {},
   "source": [
    "## PER (Price Earning Ratio)\n",
    "---\n",
    "* 주가를 주당 순이익(EPS)으로 나눈 것.\n",
    "* 수익성 지표로 활용\n",
    "\n",
    "### MarketEye\n",
    "---\n",
    "* marketEye 클래스도 RQ/RP 통신"
   ]
  },
  {
   "cell_type": "code",
   "execution_count": 9,
   "metadata": {},
   "outputs": [
    {
     "name": "stdout",
     "output_type": "stream",
     "text": [
      "현재가 :  13000\n",
      "PER :  8.739999771118164\n",
      "EPS :  1487\n",
      "최근분기년월 :  201903\n"
     ]
    }
   ],
   "source": [
    "marketEye = win32com.client.Dispatch('CpSysDib.MarketEye')\n",
    "marketEye.SetInputValue(0, (4, 67, 70, 111)) # 0 은 타입 지정 - 현재가, per, eps, 최근분기년월 데이터\n",
    "marketEye.SetInputValue(1, 'A003540') # 1 은 종목코드\n",
    "marketEye.BlockRequest()\n",
    "\n",
    "# GetDataValue 첫번째 인자는 필드 인덱스, 두번째 인자는 종목 인덱스\n",
    "print('현재가 : ', marketEye.GetDataValue(0, 0))\n",
    "print('PER : ', marketEye.GetDataValue(1, 0))\n",
    "print('EPS : ', marketEye.GetDataValue(2, 0))\n",
    "print('최근분기년월 : ', marketEye.GetDataValue(3, 0))"
   ]
  },
  {
   "cell_type": "markdown",
   "metadata": {},
   "source": [
    "## 거래량 분석\n",
    "---\n",
    "* 거래량이 급증한 종목 찾기"
   ]
  },
  {
   "cell_type": "code",
   "execution_count": 16,
   "metadata": {},
   "outputs": [
    {
     "name": "stdout",
     "output_type": "stream",
     "text": [
      "[136203, 41145, 98833, 101875, 91520, 179265, 164548, 111843, 249028, 78153, 131590, 225826, 115690, 169896, 213712, 375476, 184981, 163109, 197168, 164181, 114647, 63751, 364171, 180921, 194238, 222029, 331614, 226655, 191565, 178335, 193518, 204442, 225946, 375232, 112403, 253347, 215705, 265215, 205900, 192582, 204012, 167065, 205738, 315966, 219483, 398758, 269998, 248313, 295074, 394096, 428804, 404976, 381726, 174011, 174432, 318705, 103159, 115095, 159253, 534504]\n",
      "일반 주 0.6397241689603594\n"
     ]
    }
   ],
   "source": [
    "# 60 일 치의 거래량 데이터로 평균거래량의 10 배가 되는 조건 찾기\n",
    "\n",
    "# 객체 생성\n",
    "stockChart = win32com.client.Dispatch('CpSysDib.StockChart')\n",
    "\n",
    "# 데이터 셋팅\n",
    "stockChart.SetInputValue(0, 'A003540')\n",
    "stockChart.SetInputValue(1, ord('2'))\n",
    "stockChart.SetInputValue(4, 60)\n",
    "stockChart.SetInputValue(5, 8)\n",
    "stockChart.SetInputValue(6, ord('D'))\n",
    "stockChart.SetInputValue(9, ord('1'))\n",
    "\n",
    "# 데이터 요청\n",
    "stockChart.BlockRequest()\n",
    "\n",
    "# 데이터 획득\n",
    "volumes = []\n",
    "num_data = stockChart.GetHeaderValue(3)\n",
    "for i in range(num_data):\n",
    "    volume = stockChart.GetDataValue(0, i)\n",
    "    volumes.append(volume)\n",
    "#print(volumes)\n",
    "\n",
    "# 조건\n",
    "average = np.mean(volumes[1:-1])\n",
    "\n",
    "if(average * 10 < volumes[0]):\n",
    "    print('대박 주')\n",
    "else:\n",
    "    print('일반 주', volumes[0]/(average))"
   ]
  },
  {
   "cell_type": "code",
   "execution_count": 33,
   "metadata": {},
   "outputs": [],
   "source": [
    "# 거래량으로 대박주 찾는 모듈\n",
    "def check_volume(stockChart, code):\n",
    "    stockChart.SetInputValue(0, code)\n",
    "    stockChart.SetInputValue(1, ord('2'))\n",
    "    stockChart.SetInputValue(4, 60)\n",
    "    stockChart.SetInputValue(5, 8)\n",
    "    stockChart.SetInputValue(6, ord('D'))\n",
    "    stockChart.SetInputValue(9, ord('1'))\n",
    "\n",
    "    stockChart.BlockRequest()\n",
    "\n",
    "    volumes = []\n",
    "    num_data = stockChart.GetHeaderValue(3)\n",
    "    for i in range(num_data):\n",
    "        volume = stockChart.GetDataValue(0, i)\n",
    "        volumes.append(volume)\n",
    "\n",
    "    average = np.mean(volumes[1:-1])\n",
    "\n",
    "    if(average * 10 < volumes[0]):\n",
    "        return 1\n",
    "    else:\n",
    "        return 0"
   ]
  },
  {
   "cell_type": "code",
   "execution_count": 35,
   "metadata": {},
   "outputs": [
    {
     "name": "stdout",
     "output_type": "stream",
     "text": [
      "A004250 NPC\n"
     ]
    },
    {
     "ename": "KeyboardInterrupt",
     "evalue": "",
     "output_type": "error",
     "traceback": [
      "\u001b[1;31m---------------------------------------------------------------------------\u001b[0m",
      "\u001b[1;31mKeyboardInterrupt\u001b[0m                         Traceback (most recent call last)",
      "\u001b[1;32m<ipython-input-35-48aaa5f49a8f>\u001b[0m in \u001b[0;36m<module>\u001b[1;34m\u001b[0m\n\u001b[0;32m      3\u001b[0m \u001b[0mbuy_lst\u001b[0m \u001b[1;33m=\u001b[0m \u001b[1;33m[\u001b[0m\u001b[1;33m]\u001b[0m\u001b[1;33m\u001b[0m\u001b[1;33m\u001b[0m\u001b[0m\n\u001b[0;32m      4\u001b[0m \u001b[1;32mfor\u001b[0m \u001b[0mcode\u001b[0m \u001b[1;32min\u001b[0m \u001b[0mcode_lst\u001b[0m\u001b[1;33m:\u001b[0m\u001b[1;33m\u001b[0m\u001b[1;33m\u001b[0m\u001b[0m\n\u001b[1;32m----> 5\u001b[1;33m     \u001b[1;32mif\u001b[0m\u001b[1;33m(\u001b[0m\u001b[0mcheck_volume\u001b[0m\u001b[1;33m(\u001b[0m\u001b[0mstockChart\u001b[0m\u001b[1;33m,\u001b[0m \u001b[0mcode\u001b[0m\u001b[1;33m)\u001b[0m \u001b[1;33m==\u001b[0m \u001b[1;36m1\u001b[0m\u001b[1;33m)\u001b[0m\u001b[1;33m:\u001b[0m\u001b[1;33m\u001b[0m\u001b[1;33m\u001b[0m\u001b[0m\n\u001b[0m\u001b[0;32m      6\u001b[0m         \u001b[0mbuy_lst\u001b[0m\u001b[1;33m.\u001b[0m\u001b[0mappend\u001b[0m\u001b[1;33m(\u001b[0m\u001b[0mcode\u001b[0m\u001b[1;33m)\u001b[0m\u001b[1;33m\u001b[0m\u001b[1;33m\u001b[0m\u001b[0m\n\u001b[0;32m      7\u001b[0m         \u001b[0mprint\u001b[0m\u001b[1;33m(\u001b[0m\u001b[0mcode\u001b[0m\u001b[1;33m,\u001b[0m \u001b[0mcpCodeMgr\u001b[0m\u001b[1;33m.\u001b[0m\u001b[0mCodeToName\u001b[0m\u001b[1;33m(\u001b[0m\u001b[0mcode\u001b[0m\u001b[1;33m)\u001b[0m\u001b[1;33m)\u001b[0m\u001b[1;33m\u001b[0m\u001b[1;33m\u001b[0m\u001b[0m\n",
      "\u001b[1;32m<ipython-input-33-0cf790a93951>\u001b[0m in \u001b[0;36mcheck_volume\u001b[1;34m(stockChart, code)\u001b[0m\n\u001b[0;32m      8\u001b[0m     \u001b[0mstockChart\u001b[0m\u001b[1;33m.\u001b[0m\u001b[0mSetInputValue\u001b[0m\u001b[1;33m(\u001b[0m\u001b[1;36m9\u001b[0m\u001b[1;33m,\u001b[0m \u001b[0mord\u001b[0m\u001b[1;33m(\u001b[0m\u001b[1;34m'1'\u001b[0m\u001b[1;33m)\u001b[0m\u001b[1;33m)\u001b[0m\u001b[1;33m\u001b[0m\u001b[1;33m\u001b[0m\u001b[0m\n\u001b[0;32m      9\u001b[0m \u001b[1;33m\u001b[0m\u001b[0m\n\u001b[1;32m---> 10\u001b[1;33m     \u001b[0mstockChart\u001b[0m\u001b[1;33m.\u001b[0m\u001b[0mBlockRequest\u001b[0m\u001b[1;33m(\u001b[0m\u001b[1;33m)\u001b[0m\u001b[1;33m\u001b[0m\u001b[1;33m\u001b[0m\u001b[0m\n\u001b[0m\u001b[0;32m     11\u001b[0m \u001b[1;33m\u001b[0m\u001b[0m\n\u001b[0;32m     12\u001b[0m     \u001b[0mvolumes\u001b[0m \u001b[1;33m=\u001b[0m \u001b[1;33m[\u001b[0m\u001b[1;33m]\u001b[0m\u001b[1;33m\u001b[0m\u001b[1;33m\u001b[0m\u001b[0m\n",
      "\u001b[1;32mC:\\Anaconda\\envs\\py36_32\\lib\\site-packages\\win32com\\client\\dynamic.py\u001b[0m in \u001b[0;36mBlockRequest\u001b[1;34m(self)\u001b[0m\n",
      "\u001b[1;31mKeyboardInterrupt\u001b[0m: "
     ]
    }
   ],
   "source": [
    "# 모든 업종에 대해 검색\n",
    "cpCodeMgr = win32com.client.Dispatch('CpUtil.CpCodeMgr')\n",
    "code_lst = cpCodeMgr.GetStockListByMarket(1)\n",
    "buy_lst = []\n",
    "for code in code_lst:\n",
    "    if(check_volume(stockChart, code) == 1):\n",
    "        buy_lst.append(code)\n",
    "        print(code, cpCodeMgr.CodeToName(code))\n",
    "    time.sleep(.5) # 너무 많은 데이터를 요청하면 경고메세지 받을 가능성 떄문에 지연시간을 둠"
   ]
  },
  {
   "cell_type": "markdown",
   "metadata": {},
   "source": [
    "## 업종별 PER 분석을 통한 유망 종목 찾기\n",
    "---\n",
    "* 단순 비교가 아닌 약간의 심층 분석"
   ]
  },
  {
   "cell_type": "code",
   "execution_count": 31,
   "metadata": {},
   "outputs": [
    {
     "name": "stdout",
     "output_type": "stream",
     "text": [
      "A011150 CJ씨푸드\n",
      "A011155 CJ씨푸드1우\n",
      "A097950 CJ제일제당\n",
      "A097955 CJ제일제당 우\n",
      "A023150 MH에탄올\n",
      "A005610 SPC삼립\n",
      "A002140 고려산업\n",
      "A003920 남양유업\n",
      "A003925 남양유업우\n",
      "A004370 농심\n",
      "A001680 대상\n",
      "A001685 대상우\n",
      "A001790 대한제당\n",
      "A001799 대한제당3우B\n",
      "A001795 대한제당우\n",
      "A001130 대한제분\n",
      "A049770 동원F&B\n",
      "A280360 롯데제과\n",
      "A005300 롯데칠성\n",
      "A005305 롯데칠성우\n",
      "A002270 롯데푸드\n",
      "A027740 마니커\n",
      "A033920 무학\n",
      "A000890 보해양조\n",
      "A005180 빙그레\n",
      "A003960 사조대림\n",
      "A008040 사조동아원\n",
      "A014710 사조씨푸드\n",
      "A006090 사조오양\n",
      "A145990 삼양사\n",
      "A145995 삼양사우\n",
      "A003230 삼양식품\n",
      "A248170 샘표식품\n",
      "A004410 서울식품\n",
      "A004415 서울식품우\n",
      "A136490 선진\n",
      "A007310 오뚜기\n",
      "A271560 오리온\n",
      "A006980 우성사료\n",
      "A002600 조흥\n",
      "A264900 크라운제과\n",
      "A26490K 크라운제과우\n",
      "A036580 팜스코\n",
      "A017810 풀무원\n",
      "A000080 하이트진로\n",
      "A000087 하이트진로2우B\n",
      "A003680 한성기업\n",
      "A101530 해태제과식품\n"
     ]
    }
   ],
   "source": [
    "# 업종 리스트\n",
    "industryCodeList = cpCodeMgr.GetIndustryList()\n",
    "for code in industryCodeList:\n",
    "    #print(code, cpCodeMgr.GetIndustryName(code))\n",
    "    pass\n",
    "\n",
    "marketCode = cpCodeMgr.GetGroupCodeList(5) # 음식료품 업종에 대한 코드 리스트\n",
    "for code in marketCode:\n",
    "    print(code, cpCodeMgr.CodeToName(code))"
   ]
  },
  {
   "cell_type": "code",
   "execution_count": null,
   "metadata": {},
   "outputs": [],
   "source": [
    "marketEye.SetInputValue(0, 67) # PER 데이터 요청\n",
    "marketEye.SetInputValue(1, marketCode) # 종목을 리스트 형태로 넘길 수 있다.\n",
    "marketEye.BlockRequest()\n",
    "numStock"
   ]
  },
  {
   "cell_type": "markdown",
   "metadata": {},
   "source": [
    "# bookmark\n",
    "https://wikidocs.net/3685"
   ]
  }
 ],
 "metadata": {
  "kernelspec": {
   "display_name": "Python 3",
   "language": "python",
   "name": "python3"
  },
  "language_info": {
   "codemirror_mode": {
    "name": "ipython",
    "version": 3
   },
   "file_extension": ".py",
   "mimetype": "text/x-python",
   "name": "python",
   "nbconvert_exporter": "python",
   "pygments_lexer": "ipython3",
   "version": "3.6.8"
  }
 },
 "nbformat": 4,
 "nbformat_minor": 2
}
