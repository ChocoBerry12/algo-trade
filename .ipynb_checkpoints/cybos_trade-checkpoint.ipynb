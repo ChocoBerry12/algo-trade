{
 "cells": [
  {
   "cell_type": "code",
   "execution_count": 1,
   "metadata": {},
   "outputs": [],
   "source": [
    "import sys\n",
    "import win32com.client\n",
    "import pandas as pd\n",
    "import os"
   ]
  },
  {
   "cell_type": "code",
   "execution_count": 2,
   "metadata": {},
   "outputs": [],
   "source": [
    "'''\n",
    " ================\n",
    "| 주문 관련\n",
    " ================\n",
    "'''\n",
    "class Trade():\n",
    "    \n",
    "    def __init__(self, acc_num, caller):\n",
    "        self.account_num = acc_num\n",
    "        self.caller = caller\n",
    "        self.obj_cpTd0311 = win32com.client.Dispatch('CpTrade.CpTd0311') # 거래 오브젝트\n",
    "        self.obj_cpTrade = win32com.client.Dispatch('CpTrade.CpTdUtil') # 거래 초기화\n",
    "        \n",
    "    # 현금 매수\n",
    "    def buy(self, item, vol, price):\n",
    "        accFlag = self.obj_cpTrade.GoodsList(self.account_num, 1)  # 주식상품 구분\n",
    "        print(self.account_num, accFlag[0])\n",
    "        self.obj_cpTd0311.SetInputValue(0, 2) # 첫번째인자 : 주문종류코드, 두번째인자 : 매도(1)/매수(2)\n",
    "        self.obj_cpTd0311.SetInputValue(1, self.account_num) # 계좌, 계좌번호 값\n",
    "        self.obj_cpTd0311.SetInputValue(2, accFlag[0])   # 상품구분 - 주식 상품 중 첫번째\n",
    "        self.obj_cpTd0311.SetInputValue(3, item) # 종목코드, 코드 값 (대신증권 주식)\n",
    "        self.obj_cpTd0311.SetInputValue(4, vol) # 주문 수량\n",
    "        #self.obj_cpTd0311.SetInputValue(5, price) # 주문 단가\n",
    "        self.obj_cpTd0311.SetInputValue(7, 0)   # 주문 조건 구분 코드, 0: 기본 1: IOC 2:FOK\n",
    "        self.obj_cpTd0311.SetInputValue(8, \"03\")   # 시장가\n",
    "\n",
    "        # 요청\n",
    "        self.obj_cpTd0311.BlockRequest() # \n",
    "\n",
    "        # 확인은 conclusion 클래스로\n",
    "        if self.obj_cpTd0311.GetDibStatus() != 0:\n",
    "            print(\"통신상태\", self.obj_cpTd0311.GetDibStatus(), self.obj_cpTd0311.GetDibMsg1())\n",
    "        else:\n",
    "            print(\"예약주문 성공, 예약번호 #\")\n",
    "\n",
    "\n",
    "    # 현금 매도\n",
    "    def sell(self, item, vol, price):\n",
    "        accFlag = self.obj_cpTrade.GoodsList(self.account_num, 1)  # 주식상품 구분\n",
    "        print(self.account_num, accFlag[0])\n",
    "        self.obj_cpTd0311 = win32com.client.Dispatch(\"CpTrade.CpTd0311\")\n",
    "        self.obj_cpTd0311.SetInputValue(0, \"1\")   #  1: 매도\n",
    "        self.obj_cpTd0311.SetInputValue(1, self.account_num )   #  계좌번호\n",
    "        self.obj_cpTd0311.SetInputValue(2, accFlag[0])   #  상품구분 - 주식 상품 중 첫번째\n",
    "        self.obj_cpTd0311.SetInputValue(3, item)   #  종목코드 - A003540 - 대신증권 종목\n",
    "        self.obj_cpTd0311.SetInputValue(4, vol)   #  매도수량\n",
    "        #self.obj_cpTd0311.SetInputValue(5, price)   #  주문단가\n",
    "        self.obj_cpTd0311.SetInputValue(7, \"0\")   #  주문 조건 구분 코드, 0: 기본 1: IOC 2:FOK\n",
    "        self.obj_cpTd0311.SetInputValue(8, \"03\")   # 시장가\n",
    "\n",
    "        # 매도 주문 요청\n",
    "        self.obj_cpTd0311.BlockRequest()\n",
    "        \n",
    "        #self.caller.lookup_data.misscodeList.append(item) # 매도주문 넣으면 일단 빼기\n",
    "\n",
    "        rqStatus = self.obj_cpTd0311.GetDibStatus()\n",
    "        rqRet = self.obj_cpTd0311.GetDibMsg1()\n",
    "        print(\"통신상태\", rqStatus, rqRet)\n",
    "        if rqStatus != 0:\n",
    "            #exit()\n",
    "            pass"
   ]
  }
 ],
 "metadata": {
  "kernelspec": {
   "display_name": "Python 3",
   "language": "python",
   "name": "python3"
  },
  "language_info": {
   "codemirror_mode": {
    "name": "ipython",
    "version": 3
   },
   "file_extension": ".py",
   "mimetype": "text/x-python",
   "name": "python",
   "nbconvert_exporter": "python",
   "pygments_lexer": "ipython3",
   "version": "3.6.8"
  }
 },
 "nbformat": 4,
 "nbformat_minor": 2
}
