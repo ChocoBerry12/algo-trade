{
 "cells": [
  {
   "cell_type": "markdown",
   "metadata": {},
   "source": [
    "# 대신증권 모의투자 환경\n",
    "---\n",
    "> 본격적으로 API를 통해 가상계좌에서 매수를 수행해보겠습니다. 이를 위해 먼저 PyCharm과 같은 에디터를 관리자 모드로 실행해야 합니다. 참고로 매수/매도 API를 이용하려면 주식 시장의 운영 시간에 코드를 실행해야 합니다. 대신증권의 모의투자는 가상이긴 하지만 실제 시장의 운영 시간과 같은 시간에만 운영되기 때문입니다."
   ]
  },
  {
   "cell_type": "code",
   "execution_count": 7,
   "metadata": {},
   "outputs": [],
   "source": [
    "import win32com.client"
   ]
  },
  {
   "cell_type": "markdown",
   "metadata": {},
   "source": [
    "## 모의투자 환경에서 매매\n",
    "* CpTdUtil 클래스는 주문 오브젝트를 사용하기 위해 필요한 초기화 과정들을 수행한다\n",
    "* 매매하기 위해서 0311 모듈 사용\n",
    "* 0311 모듈은 RQ/RP 방식\n",
    "* 그러나 결과를 getDataValue 못쓰고 대신 conclusion 클래스로부터 얻는다."
   ]
  },
  {
   "cell_type": "code",
   "execution_count": 16,
   "metadata": {},
   "outputs": [
    {
     "data": {
      "text/plain": [
       "0"
      ]
     },
     "execution_count": 16,
     "metadata": {},
     "output_type": "execute_result"
    }
   ],
   "source": [
    "cpTdUtil = win32com.client.Dispatch('CpTrade.CpTdUtil')\n",
    "cpTd0311 = win32com.client.Dispatch('CpTrade.CpTd0311')\n",
    "cpTdUtil.TradeInit() # 반드시 초기화 해줘야함 - 정상이면 0 반환, 주식장 열려있는 시간에만 정상적으로 창이 뜬다."
   ]
  },
  {
   "cell_type": "markdown",
   "metadata": {},
   "source": [
    "## 테스트"
   ]
  },
  {
   "cell_type": "code",
   "execution_count": 17,
   "metadata": {},
   "outputs": [
    {
     "data": {
      "text/plain": [
       "2"
      ]
     },
     "execution_count": 17,
     "metadata": {},
     "output_type": "execute_result"
    }
   ],
   "source": [
    "# 주문 셋팅\n",
    "account_num = cpTdUtil.AccountNumber[0]\n",
    "cpTd0311.SetInputValue(0, 2) # 첫번째인자 : 주문종류코드, 두번째인자 : 매도(1)/매수(2)\n",
    "cpTd0311.SetInputValue(1, account_num) # 계좌, 계좌번호 값\n",
    "cpTd0311.SetInputValue(3, 'A003540') # 종목코드, 코드 값\n",
    "cpTd0311.SetInputValue(4, 10) # 주문 수량\n",
    "cpTd0311.SetInputValue(5, 13000) # 주문 단가\n",
    "\n",
    "# 요청\n",
    "cpTd0311.BlockRequest() # \n",
    "\n",
    "# 확인은 conclusion 클래스로"
   ]
  }
 ],
 "metadata": {
  "kernelspec": {
   "display_name": "Python 3",
   "language": "python",
   "name": "python3"
  },
  "language_info": {
   "codemirror_mode": {
    "name": "ipython",
    "version": 3
   },
   "file_extension": ".py",
   "mimetype": "text/x-python",
   "name": "python",
   "nbconvert_exporter": "python",
   "pygments_lexer": "ipython3",
   "version": "3.6.8"
  }
 },
 "nbformat": 4,
 "nbformat_minor": 2
}
