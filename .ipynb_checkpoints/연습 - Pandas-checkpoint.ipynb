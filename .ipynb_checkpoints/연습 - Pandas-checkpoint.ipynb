{
 "cells": [
  {
   "cell_type": "markdown",
   "metadata": {},
   "source": [
    "# Pandas\n",
    "---\n",
    "* 1 차원 데이터 Series\n",
    "* 2 차원 데이터 DataFrame\n",
    "---\n",
    "## python 자료구조 quick review\n",
    "* 파이썬 리스트는 수정가능, 튜플은 수정불가, 하지만 리스트보다 빠름"
   ]
  },
  {
   "cell_type": "markdown",
   "metadata": {},
   "source": [
    "## Series 자료구조\n",
    "---\n",
    "* List 와 유사 - 1 차원 벡터 데이터, 인덱싱 지원\n",
    "* List 와 다른 점 - 인덱스를 따로 설정할 수 있다. dictionary 와 유사"
   ]
  },
  {
   "cell_type": "code",
   "execution_count": 49,
   "metadata": {},
   "outputs": [],
   "source": [
    "from pandas import Series, DataFrame\n",
    "import numpy as np"
   ]
  },
  {
   "cell_type": "code",
   "execution_count": 48,
   "metadata": {},
   "outputs": [
    {
     "name": "stdout",
     "output_type": "stream",
     "text": [
      "0    92600\n",
      "1    92400\n",
      "2    92100\n",
      "3    94300\n",
      "4    92300\n",
      "dtype: int64\n",
      "2 번째 데이터 : 92100 \n",
      "\n",
      "2016-02-19    92600\n",
      "2016-02-18    92400\n",
      "2016-02-17    92100\n",
      "2016-02-16    94300\n",
      "2016-02-15    92300\n",
      "dtype: int64 \n",
      "\n",
      "2016-02-19\n",
      "2016-02-18\n",
      "2016-02-17\n",
      "2016-02-16\n",
      "2016-02-15\n",
      "92600\n",
      "92400\n",
      "92100\n",
      "94300\n",
      "92300\n"
     ]
    }
   ],
   "source": [
    "value = Series([92600, 92400, 92100, 94300, 92300]) # Series 는 사실 클래스, 인자는 생성자가 참조, 1 차원 데이터\n",
    "print(value)\n",
    "idx = 2\n",
    "print('{0} 번째 데이터 :'.format(idx), value[idx], '\\n') # 인덱싱 지원\n",
    "\n",
    "# 인덱스 임의로 지정\n",
    "value2 = Series([92600, 92400, 92100, 94300, 92300], index=['2016-02-19',\n",
    "                                                            '2016-02-18',\n",
    "                                                            '2016-02-17',\n",
    "                                                            '2016-02-16',\n",
    "                                                            '2016-02-15'])\n",
    "print(value2, '\\n')\n",
    "\n",
    "# iteration 지원\n",
    "for idx in value2.index:\n",
    "    print(idx)\n",
    "for dat in value2.values:\n",
    "    print(dat)"
   ]
  },
  {
   "cell_type": "code",
   "execution_count": 78,
   "metadata": {},
   "outputs": [
    {
     "name": "stdout",
     "output_type": "stream",
     "text": [
      "0    0\n",
      "1    1\n",
      "2    2\n",
      "3    3\n",
      "4    4\n",
      "5    5\n",
      "6    6\n",
      "7    7\n",
      "8    8\n",
      "9    9\n",
      "dtype: int32 \n",
      "\n",
      "두 Series 합 : \n",
      " kt       40\n",
      "naver    30\n",
      "sk       50\n",
      "dtype: int64 \n",
      "\n"
     ]
    }
   ],
   "source": [
    "# numpy 와 연동가능\n",
    "with_np = Series(np.arange(10))\n",
    "print(with_np, '\\n')\n",
    "\n",
    "# 자료구조 간 연산 - 같은 인덱스 찾아서 합쳐줌, 단, 같은 인덱스 없으면 계산 안됨\n",
    "mine = Series([10, 20, 30], index=['naver', 'sk', 'kt'])\n",
    "your = Series([10, 30, 20], index=['kt', 'sk', 'naver'])\n",
    "print('두 Series 합 : \\n', mine + your, '\\n')"
   ]
  },
  {
   "cell_type": "markdown",
   "metadata": {},
   "source": [
    "## DataFrame\n",
    "---\n",
    "* 2 차원 매트릭스 형태 데이터\n",
    "* 딕셔너리 (value 가 벡터인) 를 이용해 dataFrame 생성가능\n",
    "* 여러개의 Series 로 이뤄진 자료구조로 이해할 수 있음"
   ]
  },
  {
   "cell_type": "code",
   "execution_count": 92,
   "metadata": {},
   "outputs": [
    {
     "name": "stdout",
     "output_type": "stream",
     "text": [
      "   col_1  col_2  col_3\n",
      "0      1     10      5\n",
      "1      2     20      3\n",
      "2      3     30      1\n",
      "3      4     40      3 \n",
      "\n"
     ]
    },
    {
     "data": {
      "text/html": [
       "<div>\n",
       "<style scoped>\n",
       "    .dataframe tbody tr th:only-of-type {\n",
       "        vertical-align: middle;\n",
       "    }\n",
       "\n",
       "    .dataframe tbody tr th {\n",
       "        vertical-align: top;\n",
       "    }\n",
       "\n",
       "    .dataframe thead th {\n",
       "        text-align: right;\n",
       "    }\n",
       "</style>\n",
       "<table border=\"1\" class=\"dataframe\">\n",
       "  <thead>\n",
       "    <tr style=\"text-align: right;\">\n",
       "      <th></th>\n",
       "      <th>col_1</th>\n",
       "      <th>col_2</th>\n",
       "      <th>col_3</th>\n",
       "    </tr>\n",
       "  </thead>\n",
       "  <tbody>\n",
       "    <tr>\n",
       "      <th>0</th>\n",
       "      <td>1</td>\n",
       "      <td>10</td>\n",
       "      <td>5</td>\n",
       "    </tr>\n",
       "    <tr>\n",
       "      <th>1</th>\n",
       "      <td>2</td>\n",
       "      <td>20</td>\n",
       "      <td>3</td>\n",
       "    </tr>\n",
       "    <tr>\n",
       "      <th>2</th>\n",
       "      <td>3</td>\n",
       "      <td>30</td>\n",
       "      <td>1</td>\n",
       "    </tr>\n",
       "    <tr>\n",
       "      <th>3</th>\n",
       "      <td>4</td>\n",
       "      <td>40</td>\n",
       "      <td>3</td>\n",
       "    </tr>\n",
       "  </tbody>\n",
       "</table>\n",
       "</div>"
      ],
      "text/plain": [
       "   col_1  col_2  col_3\n",
       "0      1     10      5\n",
       "1      2     20      3\n",
       "2      3     30      1\n",
       "3      4     40      3"
      ]
     },
     "execution_count": 92,
     "metadata": {},
     "output_type": "execute_result"
    }
   ],
   "source": [
    "# 딕셔너리의 key 는 DF 의 인덱스, column\n",
    "# row 는 1 차원 value\n",
    "dic = {'col_1' : [1,2,3,4],\n",
    "       'col_2' : [10,20,30,40],\n",
    "       'col_3' : [5,3,1,3]}\n",
    "df = DataFrame(dic)\n",
    "print(df,'\\n') # print 버전\n",
    "df # 기본 출력 버전"
   ]
  },
  {
   "cell_type": "code",
   "execution_count": 99,
   "metadata": {},
   "outputs": [
    {
     "name": "stdout",
     "output_type": "stream",
     "text": [
      "0    10\n",
      "1    20\n",
      "2    30\n",
      "3    40\n",
      "Name: col_2, dtype: int64 \n",
      "\n",
      "<class 'pandas.core.series.Series'>\n"
     ]
    }
   ],
   "source": [
    "# column, key 로 인덱싱\n",
    "print(df['col_2'], '\\n')\n",
    "\n",
    "# DF 의 각 row 는 Series 이다 - 즉 Series 의 Series\n",
    "print(type(df['col_1']))"
   ]
  },
  {
   "cell_type": "code",
   "execution_count": 105,
   "metadata": {},
   "outputs": [
    {
     "name": "stdout",
     "output_type": "stream",
     "text": [
      "           high    low   open  close\n",
      "16.02.29  12100  11600  11650  11900\n",
      "16.02.26  11800  11050  11100  11600\n",
      "16.02.25  11200  10900  11200  11000\n",
      "16.02.24  11100  10950  11100  11100\n",
      "16.02.23  11150  10900  11000  11050\n"
     ]
    },
    {
     "data": {
      "text/html": [
       "<div>\n",
       "<style scoped>\n",
       "    .dataframe tbody tr th:only-of-type {\n",
       "        vertical-align: middle;\n",
       "    }\n",
       "\n",
       "    .dataframe tbody tr th {\n",
       "        vertical-align: top;\n",
       "    }\n",
       "\n",
       "    .dataframe thead th {\n",
       "        text-align: right;\n",
       "    }\n",
       "</style>\n",
       "<table border=\"1\" class=\"dataframe\">\n",
       "  <thead>\n",
       "    <tr style=\"text-align: right;\">\n",
       "      <th></th>\n",
       "      <th>high</th>\n",
       "      <th>low</th>\n",
       "      <th>open</th>\n",
       "      <th>close</th>\n",
       "    </tr>\n",
       "  </thead>\n",
       "  <tbody>\n",
       "    <tr>\n",
       "      <th>16.02.29</th>\n",
       "      <td>12100</td>\n",
       "      <td>11600</td>\n",
       "      <td>11650</td>\n",
       "      <td>11900</td>\n",
       "    </tr>\n",
       "    <tr>\n",
       "      <th>16.02.26</th>\n",
       "      <td>11800</td>\n",
       "      <td>11050</td>\n",
       "      <td>11100</td>\n",
       "      <td>11600</td>\n",
       "    </tr>\n",
       "    <tr>\n",
       "      <th>16.02.25</th>\n",
       "      <td>11200</td>\n",
       "      <td>10900</td>\n",
       "      <td>11200</td>\n",
       "      <td>11000</td>\n",
       "    </tr>\n",
       "    <tr>\n",
       "      <th>16.02.24</th>\n",
       "      <td>11100</td>\n",
       "      <td>10950</td>\n",
       "      <td>11100</td>\n",
       "      <td>11100</td>\n",
       "    </tr>\n",
       "    <tr>\n",
       "      <th>16.02.23</th>\n",
       "      <td>11150</td>\n",
       "      <td>10900</td>\n",
       "      <td>11000</td>\n",
       "      <td>11050</td>\n",
       "    </tr>\n",
       "  </tbody>\n",
       "</table>\n",
       "</div>"
      ],
      "text/plain": [
       "           high    low   open  close\n",
       "16.02.29  12100  11600  11650  11900\n",
       "16.02.26  11800  11050  11100  11600\n",
       "16.02.25  11200  10900  11200  11000\n",
       "16.02.24  11100  10950  11100  11100\n",
       "16.02.23  11150  10900  11000  11050"
      ]
     },
     "execution_count": 105,
     "metadata": {},
     "output_type": "execute_result"
    }
   ],
   "source": [
    "# OHLC\n",
    "daeshin = {'open':  [11650, 11100, 11200, 11100, 11000],\n",
    "           'high':  [12100, 11800, 11200, 11100, 11150],\n",
    "           'low' :  [11600, 11050, 10900, 10950, 10900],\n",
    "           'close': [11900, 11600, 11000, 11100, 11050]}\n",
    "\n",
    "# column(인덱스) 순서 지정가능, row 인덱스 지정가능\n",
    "date = ['16.02.29', '16.02.26', '16.02.25', '16.02.24', '16.02.23']\n",
    "daeshin_day = DataFrame(daeshin, columns=['high','low','open','close'], index=date)\n",
    "print(daeshin_day)\n",
    "daeshin_day"
   ]
  },
  {
   "cell_type": "code",
   "execution_count": 121,
   "metadata": {},
   "outputs": [
    {
     "name": "stdout",
     "output_type": "stream",
     "text": [
      "high     12100\n",
      "low      11600\n",
      "open     11650\n",
      "close    11900\n",
      "Name: 16.02.29, dtype: int64 \n",
      "\n",
      "high     12100\n",
      "low      11600\n",
      "open     11650\n",
      "close    11900\n",
      "Name: 16.02.29, dtype: int64 \n",
      "\n",
      "<class 'pandas.core.series.Series'> \n",
      "\n",
      "Index(['16.02.29', '16.02.26', '16.02.25', '16.02.24', '16.02.23'], dtype='object')\n",
      "Index(['high', 'low', 'open', 'close'], dtype='object')\n"
     ]
    }
   ],
   "source": [
    "# column 으로 접근 - 인덱스는 key 로 인식\n",
    "daeshin_day['open']\n",
    "\n",
    "# row 로 접근 - 인덱스는 key 로 인식되지만 row 인덱스는 loc 메서드를 이용 - ix 메서드는 deprecated\n",
    "print(daeshin_day.loc['16.02.29'], '\\n') # key 인덱싱\n",
    "print(daeshin_day.iloc[0], '\\n') # 숫자 인덱싱\n",
    "print(type(daeshin_day.iloc[0]), '\\n') # row 데이터도 Series\n",
    "print(daeshin_day.index) # row 구하기. index 는 row 로 뽑아줌\n",
    "print(daeshin_day.columns) # column 구하기"
   ]
  }
 ],
 "metadata": {
  "kernelspec": {
   "display_name": "Python 3",
   "language": "python",
   "name": "python3"
  },
  "language_info": {
   "codemirror_mode": {
    "name": "ipython",
    "version": 3
   },
   "file_extension": ".py",
   "mimetype": "text/x-python",
   "name": "python",
   "nbconvert_exporter": "python",
   "pygments_lexer": "ipython3",
   "version": "3.6.8"
  }
 },
 "nbformat": 4,
 "nbformat_minor": 2
}
