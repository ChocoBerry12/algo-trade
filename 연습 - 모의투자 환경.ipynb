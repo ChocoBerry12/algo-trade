{
 "cells": [
  {
   "cell_type": "markdown",
   "metadata": {},
   "source": [
    "# 대신증권 모의투자 환경\n",
    "---\n",
    "> 본격적으로 API를 통해 가상계좌에서 매수를 수행해보겠습니다. 이를 위해 먼저 PyCharm과 같은 에디터를 관리자 모드로 실행해야 합니다. 참고로 매수/매도 API를 이용하려면 주식 시장의 운영 시간에 코드를 실행해야 합니다. 대신증권의 모의투자는 가상이긴 하지만 실제 시장의 운영 시간과 같은 시간에만 운영되기 때문입니다.\n",
    "\n",
    "> 주말, 공휴일 주식 시장 휴장\n",
    "* [API 자료](https://money2.daishin.com/e5/mboard/ptype_basic/plusPDS/DW_Basic_List.aspx?boardseq=299&m=9508&p=8831&v=8638)"
   ]
  },
  {
   "cell_type": "code",
   "execution_count": 1,
   "metadata": {},
   "outputs": [],
   "source": [
    "import win32com.client"
   ]
  },
  {
   "cell_type": "markdown",
   "metadata": {},
   "source": [
    "## 모의투자 환경에서 매매\n",
    "* CpTdUtil 클래스는 주문 오브젝트를 사용하기 위해 필요한 초기화 과정들을 수행한다\n",
    "* 매매하기 위해서 0311 모듈 사용\n",
    "* 0311 모듈은 RQ/RP 방식\n",
    "* 그러나 결과를 getDataValue 못쓰고 대신 conclusion 클래스로부터 얻는다.\n",
    "* 모의투자인 경우 TradeInit 호출시 사용되는 서비스(계좌비밀번호 검증하는 서비스)가 제공되고있지 않습니다.\n",
    "* 반드시 먼저 주문 오브젝트 사용 동의를 해야한다.\n",
    "* [1846] 시스템트레이딩 이용 신청/해지’화면을 통해 시스템트레이딩이용신청\n",
    "* [1829] HTS 이중접속서비스 신청/해지’ 화면을 통해 이중접속신청"
   ]
  },
  {
   "cell_type": "code",
   "execution_count": 2,
   "metadata": {},
   "outputs": [
    {
     "ename": "com_error",
     "evalue": "(-2147352567, '예외가 발생했습니다.', (0, None, 'U-CYBOS가 서버에 접속되어 있지 않습니다.', None, 0, -2147483638), None)",
     "output_type": "error",
     "traceback": [
      "\u001b[1;31m---------------------------------------------------------------------------\u001b[0m",
      "\u001b[1;31mcom_error\u001b[0m                                 Traceback (most recent call last)",
      "\u001b[1;32m<ipython-input-2-3e122c1a37d1>\u001b[0m in \u001b[0;36m<module>\u001b[1;34m\u001b[0m\n\u001b[0;32m      1\u001b[0m \u001b[0mcpTdUtil\u001b[0m \u001b[1;33m=\u001b[0m \u001b[0mwin32com\u001b[0m\u001b[1;33m.\u001b[0m\u001b[0mclient\u001b[0m\u001b[1;33m.\u001b[0m\u001b[0mDispatch\u001b[0m\u001b[1;33m(\u001b[0m\u001b[1;34m'CpTrade.CpTdUtil'\u001b[0m\u001b[1;33m)\u001b[0m\u001b[1;33m\u001b[0m\u001b[1;33m\u001b[0m\u001b[0m\n\u001b[0;32m      2\u001b[0m \u001b[0mcpTd0311\u001b[0m \u001b[1;33m=\u001b[0m \u001b[0mwin32com\u001b[0m\u001b[1;33m.\u001b[0m\u001b[0mclient\u001b[0m\u001b[1;33m.\u001b[0m\u001b[0mDispatch\u001b[0m\u001b[1;33m(\u001b[0m\u001b[1;34m'CpTrade.CpTd0311'\u001b[0m\u001b[1;33m)\u001b[0m\u001b[1;33m\u001b[0m\u001b[1;33m\u001b[0m\u001b[0m\n\u001b[1;32m----> 3\u001b[1;33m \u001b[0mcpTdUtil\u001b[0m\u001b[1;33m.\u001b[0m\u001b[0mTradeInit\u001b[0m\u001b[1;33m(\u001b[0m\u001b[1;33m)\u001b[0m \u001b[1;31m# 반드시 초기화 해줘야함 - 정상이면 0 반환, 주식장 열려있는 시간에만 정상적으로 창이 뜬다.\u001b[0m\u001b[1;33m\u001b[0m\u001b[1;33m\u001b[0m\u001b[0m\n\u001b[0m",
      "\u001b[1;32mC:\\Anaconda\\envs\\py36_32\\lib\\site-packages\\win32com\\client\\dynamic.py\u001b[0m in \u001b[0;36mTradeInit\u001b[1;34m(self, Reserved)\u001b[0m\n",
      "\u001b[1;31mcom_error\u001b[0m: (-2147352567, '예외가 발생했습니다.', (0, None, 'U-CYBOS가 서버에 접속되어 있지 않습니다.', None, 0, -2147483638), None)"
     ]
    }
   ],
   "source": [
    "cpTdUtil = win32com.client.Dispatch('CpTrade.CpTdUtil')\n",
    "cpTd0311 = win32com.client.Dispatch('CpTrade.CpTd0311')\n",
    "cpTdUtil.TradeInit() # 반드시 초기화 해줘야함 - 정상이면 0 반환, 주식장 열려있는 시간에만 정상적으로 창이 뜬다."
   ]
  },
  {
   "cell_type": "markdown",
   "metadata": {},
   "source": [
    "## 테스트\n",
    "---\n",
    "* 증거금이 부족하다? - \n",
    "* 상품관리구분을 확인해라? - 3 번째 데이터로 상품구분을 넣어줘야함\n",
    "* 4396 모의투자 IOC/FOK는 주문불가하다? - 최유리지정가 최우선지정가를 뜻하는데 모투는 안됨?\n",
    "---\n",
    "* 주문하면 한 번에 안사질수도 있다. 지정가로 하면 더욱 그럼 물량이 없을수도\n",
    "* API 로 확인하는 방법 또는 HTS 실시간 주문체결 내역조회 탭에서"
   ]
  },
  {
   "cell_type": "code",
   "execution_count": 18,
   "metadata": {},
   "outputs": [],
   "source": [
    "# 현금 매수\n",
    "def buy():\n",
    "    account_num = cpTdUtil.AccountNumber[0]\n",
    "    accFlag = cpTdUtil.GoodsList(account_num, 1)  # 주식상품 구분\n",
    "    print(account_num, accFlag[0])\n",
    "    cpTd0311.SetInputValue(0, 2) # 첫번째인자 : 주문종류코드, 두번째인자 : 매도(1)/매수(2)\n",
    "    cpTd0311.SetInputValue(1, account_num) # 계좌, 계좌번호 값\n",
    "    cpTd0311.SetInputValue(2, accFlag[0])   # 상품구분 - 주식 상품 중 첫번째\n",
    "    cpTd0311.SetInputValue(3, 'A003540') # 종목코드, 코드 값 (대신증권 주식)\n",
    "    cpTd0311.SetInputValue(4, 10) # 주문 수량\n",
    "    cpTd0311.SetInputValue(5, 13100) # 주문 단가\n",
    "    cpTd0311.SetInputValue(7, 0)   # 주문 조건 구분 코드, 0: 기본 1: IOC 2:FOK\n",
    "    cpTd0311.SetInputValue(8, \"01\")   # 주문호가 구분코드 - 01: 보통\n",
    "\n",
    "    # 요청\n",
    "    cpTd0311.BlockRequest() # \n",
    "\n",
    "    # 확인은 conclusion 클래스로\n",
    "    if cpTd0311.GetDibStatus() != 0:\n",
    "        print(\"통신상태\", cpTd0311.GetDibStatus(), cpTd0311.GetDibMsg1())\n",
    "    else:\n",
    "        print(\"예약주문 성공, 예약번호 #\")"
   ]
  },
  {
   "cell_type": "code",
   "execution_count": 19,
   "metadata": {},
   "outputs": [],
   "source": [
    "# 현금 매도\n",
    "def sell():\n",
    "    account_num = cpTdUtil.AccountNumber[0]\n",
    "    accFlag = cpTdUtil.GoodsList(account_num, 1)  # 주식상품 구분\n",
    "    print(account_num, accFlag[0])\n",
    "\n",
    "    cpTd0311 = win32com.client.Dispatch(\"CpTrade.CpTd0311\")\n",
    "    cpTd0311.SetInputValue(0, \"1\")   #  1: 매도\n",
    "    cpTd0311.SetInputValue(1, account_num )   #  계좌번호\n",
    "    cpTd0311.SetInputValue(2, accFlag[0])   #  상품구분 - 주식 상품 중 첫번째\n",
    "    cpTd0311.SetInputValue(3, \"A003540\")   #  종목코드 - A003540 - 대신증권 종목\n",
    "    cpTd0311.SetInputValue(4, 1)   #  매도수량 10주\n",
    "    cpTd0311.SetInputValue(5, 14100)   #  주문단가  - 14,100원\n",
    "    cpTd0311.SetInputValue(7, \"0\")   #  주문 조건 구분 코드, 0: 기본 1: IOC 2:FOK\n",
    "    cpTd0311.SetInputValue(8, \"01\")   # 주문호가 구분코드 - 01: 보통\n",
    "\n",
    "    # 매도 주문 요청\n",
    "    cpTd0311.BlockRequest()\n",
    "\n",
    "    rqStatus = cpTd0311.GetDibStatus()\n",
    "    rqRet = cpTd0311.GetDibMsg1()\n",
    "    print(\"통신상태\", rqStatus, rqRet)\n",
    "    if rqStatus != 0:\n",
    "        exit()"
   ]
  },
  {
   "cell_type": "code",
   "execution_count": 20,
   "metadata": {},
   "outputs": [
    {
     "name": "stdout",
     "output_type": "stream",
     "text": [
      "335021511 10\n",
      "예약주문 성공, 예약번호 #\n",
      "335021511 10\n",
      "통신상태 0 0039 모의투자 매도 주문이 완료되었습니다.(ordss.cststkord)\n"
     ]
    }
   ],
   "source": [
    "buy()\n",
    "sell()"
   ]
  }
 ],
 "metadata": {
  "kernelspec": {
   "display_name": "Python 3",
   "language": "python",
   "name": "python3"
  },
  "language_info": {
   "codemirror_mode": {
    "name": "ipython",
    "version": 3
   },
   "file_extension": ".py",
   "mimetype": "text/x-python",
   "name": "python",
   "nbconvert_exporter": "python",
   "pygments_lexer": "ipython3",
   "version": "3.6.8"
  }
 },
 "nbformat": 4,
 "nbformat_minor": 2
}
