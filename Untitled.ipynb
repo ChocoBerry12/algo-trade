{
 "cells": [
  {
   "cell_type": "markdown",
   "metadata": {},
   "source": [
    "* history 시간표시\n",
    "* 카카오톡 알림으로 보내기\n",
    "---\n"
   ]
  },
  {
   "cell_type": "code",
   "execution_count": 3,
   "metadata": {},
   "outputs": [],
   "source": [
    "import numpy as np\n",
    "import requests\n",
    "from flask import Flask\n",
    "from flask import Flask, render_template, redirect, url_for, request\n",
    "import requests\n",
    "import json"
   ]
  },
  {
   "cell_type": "code",
   "execution_count": null,
   "metadata": {
    "collapsed": true,
    "jupyter": {
     "outputs_hidden": true,
     "source_hidden": true
    }
   },
   "outputs": [
    {
     "name": "stdout",
     "output_type": "stream",
     "text": [
      " * Serving Flask app \"__main__\" (lazy loading)\n",
      " * Environment: production\n",
      "   WARNING: Do not use the development server in a production environment.\n",
      "   Use a production WSGI server instead.\n",
      " * Debug mode: off\n"
     ]
    },
    {
     "name": "stderr",
     "output_type": "stream",
     "text": [
      " * Running on http://0.0.0.0:7000/ (Press CTRL+C to quit)\n"
     ]
    }
   ],
   "source": [
    "#!/usr/bin/env python\n",
    "\n",
    "# -*- coding: utf-8 -*-\n",
    "\n",
    "\n",
    "\n",
    "import os\n",
    "\n",
    "import requests\n",
    "\n",
    "from flask import Flask, request, jsonify\n",
    "\n",
    "\n",
    "\n",
    "app = Flask(__name__)\n",
    "\n",
    "\n",
    "\n",
    "\n",
    "\n",
    "@app.route('/keyboard')\n",
    "\n",
    "def Keyboard():\n",
    "    return jsonify( {\"type\" : \"text\"} )\n",
    "\n",
    "\n",
    "\n",
    "@app.route('/message', methods=['POST'])\n",
    "\n",
    "def message():\n",
    "\n",
    "\n",
    "\n",
    "    content = request.json['content']\n",
    "\n",
    "\n",
    "\n",
    "    if( u\"안녕\" in content ):\n",
    "\n",
    "        contents = { 'message': { 'text' : u\"안녕하세요\" } }\n",
    "\n",
    "\n",
    "\n",
    "    elif( u\"사랑\" in content ):\n",
    "\n",
    "        contents = { 'message': { 'text' : \"저도 사랑해요\" } }\n",
    "\n",
    "\n",
    "\n",
    "    elif( u\"뭐야\" in content ):\n",
    "\n",
    "        contents = { 'message': { 'text' : \"저도 제가 뭔지 모르겠어요\" } }\n",
    "\n",
    "\n",
    "    elif( u\"미세먼지\" in content ):\n",
    "\n",
    "        url  = \"http://openapi.airkorea.or.kr/openapi/services/rest/\"\n",
    "        url += \"ArpltnInforInqireSvc/getMsrstnAcctoRltmMesureDnsty\"\n",
    "        url += \"?serviceKey=1234\"\n",
    "        url += \"&numOfRows=10&pageSize=10&pageNo=1&startPage=1\"\n",
    "        url += \"&dataTerm=DAILY&ver=1.3&_returnType=json\"\n",
    "        url += \"&stationName=%EB%8F%99%ED%83%84\"\n",
    "\n",
    "        r = requests.get( url )\n",
    "\n",
    "        contents = { 'message': { 'text' : \"죄송합니다만, 미세먼지 정보를 확인하지 못했어요!\" } }\n",
    "        if( r.status_code == 200 ):\n",
    "\n",
    "            items = r.json()\n",
    "            if( 'list' in items.keys() ):\n",
    "\n",
    "                item  = u\"%s 측정된\" % items['list'][0]['dataTime']\n",
    "                item += u\"\\n동탄의 미세먼지는\"\n",
    "                item += u\"\\npm10=%s, pm25=%s 입니다\" % (items['list'][0]['pm10Value'], items['list'][0]['pm25Value'])\n",
    "                item += u\"\\n24시간 예측값은\"\n",
    "                item += u\"\\npm10=%s, pm25=%s 입니다\" % (items['list'][0]['pm10Value24'], items['list'][0]['pm25Value24'])\n",
    "                item += u\"\\n입니다.\"\n",
    "\n",
    "                contents = { 'message': { 'text' :  item } }\n",
    "\n",
    "    else:\n",
    "        contents = { 'message': { 'text' : content + u\"가 무슨 말이야?\" } }\n",
    "\n",
    "    return jsonify( contents )\n",
    "\n",
    "\n",
    "if __name__ == \"__main__\":\n",
    "    app.run( host = '0.0.0.0', port = 7000 )\n",
    "\n",
    "\n"
   ]
  },
  {
   "cell_type": "code",
   "execution_count": null,
   "metadata": {
    "jupyter": {
     "source_hidden": true
    }
   },
   "outputs": [],
   "source": [
    "app = Flask(__name__)\n",
    "\n",
    "@app.route('/')\n",
    "def index() :\n",
    "    return render_template('index.html')\n",
    "\n",
    "@app.route('/oauth')\n",
    "def oauth():\n",
    "    code = str(request.args.get('code'))\n",
    "    resToken = getAccessToken(\"25ffcc6de73f98fd8701b686190f98d7\",str(code))  #XXXXXXXXX 자리에 REST API KEY값을 사용\n",
    "    return 'code=' + str(code) + '<br/>response for token=' + str(resToken)\n",
    "\n",
    "def getAccessToken(clientId, code) :  # 세션 코드값 code 를 이용해서 ACESS TOKEN과 REFRESH TOKEN을 발급 받음\n",
    "    url = \"https://kauth.kakao.com/oauth/token\"\n",
    "    payload = \"grant_type=authorization_code\"\n",
    "    payload += \"&client_id=\" + clientId\n",
    "    payload += \"&redirect_url=http://localhost&code=\" + code\n",
    "    headers = {\n",
    "        'Content-Type' : \"application/x-www-form-urlencoded\",\n",
    "        'Cache-Control' : \"no-cache\",\n",
    "    }\n",
    "    reponse = requests.request(\"POST\",url,data=payload, headers=headers)\n",
    "    access_token = json.loads(((reponse.text).encode('utf-8')))\n",
    "    return access_token\n",
    "\n",
    "if __name__ == '__main__' :\n",
    "    app.run(debug = True)"
   ]
  },
  {
   "cell_type": "code",
   "execution_count": null,
   "metadata": {
    "jupyter": {
     "source_hidden": true
    }
   },
   "outputs": [],
   "source": [
    "code=XXXXXXXXXXXXXXXXXXXXXX\n",
    "\n",
    "response for token={u'access_token': u'YYYYYYYYYYYYYYYY', u'refresh_token_expires_in': 2591999, u'expires_in': 21599, u'token_type': u'bearer', u'scope': u'talk_message profile', u'refresh_token': u'ZZZZZZZZZZZZZZZZZZZZZ'}\n",
    "\n"
   ]
  },
  {
   "cell_type": "code",
   "execution_count": null,
   "metadata": {
    "jupyter": {
     "source_hidden": true
    }
   },
   "outputs": [],
   "source": [
    "#!/usr/bin/python\n",
    "\n",
    "# -*- coding: utf-8 -*-\n",
    "\n",
    "import requests\n",
    "\n",
    "import urllib\n",
    "\n",
    "import json\n",
    "\n",
    "\n",
    "\n",
    "def getAccessToken(refreshToken) :\n",
    "\n",
    "    url = \"https://kauth.kakao.com/oauth/token\"\n",
    "\n",
    "    payload = \"grant_type=refresh_token&client_id=YOUR_REST_API_KEY&refresh_token=\" + refreshToken\n",
    "\n",
    "    headers = {\n",
    "\n",
    "        'Content-Type' : \"application/x-www-form-urlencoded\",\n",
    "\n",
    "        'Cache-Control' : \"no-cache\",\n",
    "\n",
    "    }\n",
    "\n",
    "    reponse = requests.request(\"POST\",url,data=payload, headers=headers)\n",
    "\n",
    "    access_token = json.loads(((reponse.text).encode('utf-8')))\n",
    "\n",
    "    return access_token\n",
    "\n",
    "\n",
    "\n",
    "def sendText(accessToken) :\n",
    "\n",
    "    url = 'https://kapi.kakao.com/v2/api/talk/memo/default/send'\n",
    "\n",
    "    payloadDict = dict({\n",
    "\n",
    "            \"object_type\" : \"text\",\n",
    "\n",
    "            \"text\" :u\"이것은 테스트\".encode(\"utf-8\"),\n",
    "\n",
    "            \"link\" : {\n",
    "\n",
    "                \"web_url\" : \"http://yourwebsite.for.pc\",\n",
    "\n",
    "                \"mobile_web_url\" : \"http://yourwebsite.for.mobile\"\n",
    "\n",
    "             },\n",
    "\n",
    "            \"button_title\" : u\"방문\".encode(\"utf-8\"),\n",
    "\n",
    "            })\n",
    "\n",
    "    payload = 'template_object=' + str(json.dumps(payloadDict))\n",
    "\n",
    "    print payload\n",
    "\n",
    "    headers = {\n",
    "\n",
    "        'Content-Type' : \"application/x-www-form-urlencoded\",\n",
    "\n",
    "        'Cache-Control' : \"no-cache\",\n",
    "\n",
    "        'Authorization' : \"Bearer \" + accessToken,\n",
    "\n",
    "    }\n",
    "\n",
    "    reponse = requests.request(\"POST\",url,data=payload, headers=headers)\n",
    "\n",
    "    access_token = json.loads(((reponse.text).encode('utf-8')))\n",
    "\n",
    "    return access_token\n",
    "\n",
    "\n",
    "\n",
    "result =  getAccessToken(\"RECEIVER_REFRESH_KEY\")   # 메세지 받을 사람의 REFRESH TOKEN 이용\n",
    "\n",
    "print result['access_token']\n",
    "\n",
    "print sendText(result['access_token'])"
   ]
  },
  {
   "cell_type": "markdown",
   "metadata": {
    "jupyter": {
     "source_hidden": true
    }
   },
   "source": [
    "data = {\n",
    "    'client_id': '25ffcc6de73f98fd8701b686190f98d7',\n",
    "    'redirect_uri': 'http://localhost',\n",
    "    'response_type': 'code'\n",
    "}\n",
    "\n",
    "response = requests.get('https://kauth.kakao.com/oauth/authorize', data=data)\n",
    "response.json()"
   ]
  },
  {
   "cell_type": "code",
   "execution_count": null,
   "metadata": {
    "jupyter": {
     "source_hidden": true
    }
   },
   "outputs": [],
   "source": [
    "data = {\n",
    "  'grant_type': 'authorization_code',\n",
    "  'client_id': '25ffcc6de73f98fd8701b686190f98d7',\n",
    "  'redirect_uri': 'http://localhost',\n",
    "  'code': '{authorize_code}'\n",
    "}\n",
    "\n",
    "response = requests.post('https://kauth.kakao.com/oauth/token', data=data)"
   ]
  },
  {
   "cell_type": "code",
   "execution_count": 34,
   "metadata": {},
   "outputs": [
    {
     "name": "stdout",
     "output_type": "stream",
     "text": [
      "3\n",
      "2\n",
      "1\n"
     ]
    }
   ],
   "source": [
    "a = [3,2,1]\n",
    "\n",
    "for i in a:\n",
    "    print(i)"
   ]
  }
 ],
 "metadata": {
  "kernelspec": {
   "display_name": "Python 3",
   "language": "python",
   "name": "python3"
  },
  "language_info": {
   "codemirror_mode": {
    "name": "ipython",
    "version": 3
   },
   "file_extension": ".py",
   "mimetype": "text/x-python",
   "name": "python",
   "nbconvert_exporter": "python",
   "pygments_lexer": "ipython3",
   "version": "3.6.8"
  }
 },
 "nbformat": 4,
 "nbformat_minor": 4
}
