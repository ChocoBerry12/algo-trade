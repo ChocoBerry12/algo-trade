{
 "cells": [
  {
   "cell_type": "code",
   "execution_count": 1,
   "metadata": {},
   "outputs": [],
   "source": [
    "import win32com.client\n",
    "from pywinauto import application\n",
    "import os\n",
    "import time"
   ]
  },
  {
   "cell_type": "code",
   "execution_count": 2,
   "metadata": {},
   "outputs": [],
   "source": [
    "class cp_login:\n",
    "    def __init__(self):\n",
    "        self.obj_CpUtil_CpCybos = win32com.client.Dispatch('CpUtil.CpCybos')\n",
    "\n",
    "    def kill_client(self):\n",
    "        os.system('taskkill /IM coStarter* /F /T')\n",
    "        os.system('taskkill /IM CpStart* /F /T')\n",
    "        os.system('taskkill /IM DibServer* /F /T')\n",
    "        os.system('wmic process where \"name like \\'%coStarter%\\'\" call terminate')\n",
    "        os.system('wmic process where \"name like \\'%CpStart%\\'\" call terminate')\n",
    "        os.system('wmic process where \"name like \\'%DibServer%\\'\" call terminate')\n",
    "\n",
    "    def connect(self, prj='cp'):\n",
    "        if not self.connected():\n",
    "            #print('Cybos Plus - 이미 연결된 클라이언트가 있음.')\n",
    "            self.disconnect()\n",
    "            #self.kill_client()\n",
    "            #print('Cybos Plus - 기존 연결 종료')\n",
    "            app = application.Application()\n",
    "            app.start('C:\\\\DAISHIN\\\\STARTER\\\\ncStarter.exe /prj:{0} /id:rkana426 /pwd:minsu48! /pwdcert:minsu426!! /autostart'.format(prj))\n",
    "            print('Cybos Plus - 로그인 중...')\n",
    "            print('Cybos Plus - 접속 중...')\n",
    "        else:\n",
    "            print('Cybos Plus - 이미 연결되어 있음.')\n",
    "            return True\n",
    "        while not self.connected():\n",
    "            #time.sleep(1)\n",
    "            pass\n",
    "        print('Cybos Plus - 접속 성공.')\n",
    "        return True\n",
    "\n",
    "    def connected(self):\n",
    "        b_connected = self.obj_CpUtil_CpCybos.IsConnect\n",
    "        if b_connected == 0:\n",
    "            return False\n",
    "        return True\n",
    "\n",
    "    def disconnect(self):\n",
    "        if self.connected():\n",
    "            self.obj_CpUtil_CpCybos.PlusDisconnect()"
   ]
  },
  {
   "cell_type": "code",
   "execution_count": 3,
   "metadata": {},
   "outputs": [
    {
     "name": "stdout",
     "output_type": "stream",
     "text": [
      "Cybos Plus - 로그인 중...\n",
      "Cybos Plus - 접속 중...\n",
      "Cybos Plus - 접속 성공.\n"
     ]
    },
    {
     "data": {
      "text/plain": [
       "True"
      ]
     },
     "execution_count": 3,
     "metadata": {},
     "output_type": "execute_result"
    }
   ],
   "source": [
    "if __name__ == '__main__':\n",
    "    login = cpLogin()\n",
    "    login.connect()"
   ]
  }
 ],
 "metadata": {
  "kernelspec": {
   "display_name": "Python 3",
   "language": "python",
   "name": "python3"
  },
  "language_info": {
   "codemirror_mode": {
    "name": "ipython",
    "version": 3
   },
   "file_extension": ".py",
   "mimetype": "text/x-python",
   "name": "python",
   "nbconvert_exporter": "python",
   "pygments_lexer": "ipython3",
   "version": "3.6.8"
  }
 },
 "nbformat": 4,
 "nbformat_minor": 2
}
