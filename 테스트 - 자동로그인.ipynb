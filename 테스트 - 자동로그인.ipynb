{
 "cells": [
  {
   "cell_type": "markdown",
   "metadata": {},
   "source": [
    "# 자동로그인\n",
    "* pywinauto 는 윈도우 자동화 라이브러리"
   ]
  },
  {
   "cell_type": "code",
   "execution_count": 3,
   "metadata": {},
   "outputs": [],
   "source": [
    "from pywinauto import application\n",
    "from pywinauto import timings\n",
    "import time\n",
    "import os\n",
    "import pyautogui as pag\n",
    "import ctypes\n",
    "import ctypes.wintypes\n",
    "\n",
    "def login(prj):\n",
    "    # 프로그램 실행\n",
    "    app = application.Application()\n",
    "\n",
    "    # 정보입력\n",
    "    # c: cybos\n",
    "    # cp: cybos plus\n",
    "    app.start('C:\\\\DAISHIN\\\\STARTER\\\\ncStarter.exe /prj:{0} /id:rkana426 /pwd:minsu48! /pwdcert:minsu426!! /autostart'.format(prj))\n",
    "    print('CYBOS' if prj=='c' else 'CYBOS Plus', '실행')\n",
    "    \n",
    "    # 이미 실행된 프로그램이 있을 때 처리 - 나중에 마무리\n",
    "    #time.sleep(1)\n",
    "    #pag.press('right')\n",
    "    #pag.typewrite('\\n')\n",
    "    print('로그인 중..')\n",
    "\n",
    "    # 로그인 하는 시간때문에 delay 조금 주고 종료\n",
    "    time.sleep(50\n",
    "    print('로그인 완료')\n",
    "    print('자동로그인 태스크 종료')"
   ]
  },
  {
   "cell_type": "code",
   "execution_count": 5,
   "metadata": {},
   "outputs": [
    {
     "name": "stdout",
     "output_type": "stream",
     "text": [
      "CYBOS Plus 실행\n",
      "로그인 중..\n",
      "로그인 완료\n",
      "자동로그인 태스크 종료\n"
     ]
    }
   ],
   "source": [
    "login('cp')"
   ]
  }
 ],
 "metadata": {
  "kernelspec": {
   "display_name": "Python 3",
   "language": "python",
   "name": "python3"
  },
  "language_info": {
   "codemirror_mode": {
    "name": "ipython",
    "version": 3
   },
   "file_extension": ".py",
   "mimetype": "text/x-python",
   "name": "python",
   "nbconvert_exporter": "python",
   "pygments_lexer": "ipython3",
   "version": "3.6.8"
  }
 },
 "nbformat": 4,
 "nbformat_minor": 2
}
