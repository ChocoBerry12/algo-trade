{
 "cells": [
  {
   "cell_type": "code",
   "execution_count": 3,
   "metadata": {},
   "outputs": [
    {
     "name": "stdout",
     "output_type": "stream",
     "text": [
      "Importing Jupyter notebook from cybos_trade.ipynb\n",
      "Importing Jupyter notebook from cybos_watch.ipynb\n",
      "Importing Jupyter notebook from cybos_inquiry.ipynb\n"
     ]
    }
   ],
   "source": [
    "from PyQt5.QtWidgets import *\n",
    "from PyQt5.QtCore import *\n",
    "from PyQt5.QtGui import *\n",
    "from PyQt5.QtChart import *\n",
    "from PyQt5 import uic\n",
    "from PyQt5 import QtChart as qc\n",
    "import win32com.client\n",
    "import ctypes\n",
    "import pandas as pd\n",
    "import os\n",
    "import time\n",
    "import numpy as np\n",
    "import threading\n",
    "import sys\n",
    "\n",
    "import nbimporter\n",
    "#import autologin\n",
    "import cybos_trade\n",
    "import cybos_watch\n",
    "import cybos_inquiry"
   ]
  },
  {
   "cell_type": "code",
   "execution_count": 4,
   "metadata": {},
   "outputs": [],
   "source": [
    "# API 모듈 import\n",
    "obj_codeMgr = win32com.client.Dispatch('CpUtil.CpCodeMgr') # 종목정보\n",
    "obj_cpStatus = win32com.client.Dispatch('CpUtil.CpCybos') # 연결, 상태 정보\n",
    "obj_cpTrade = win32com.client.Dispatch('CpTrade.CpTdUtil') # 거래 초기화\n",
    "obj_cpTd0311 = win32com.client.Dispatch('CpTrade.CpTd0311') # 거래 오브젝트\n",
    "obj_stockMst = win32com.client.Dispatch(\"DsCbo1.StockMst\") # 현재가\n",
    "obj_stockChart = win32com.client.Dispatch(\"CpSysDib.StockChart\") # 차트 데이터"
   ]
  },
  {
   "cell_type": "code",
   "execution_count": 5,
   "metadata": {},
   "outputs": [
    {
     "name": "stdout",
     "output_type": "stream",
     "text": [
      "Cybos Plus - 정상 (관리자권한으로 실행된 프로세스입니다.)\n",
      "Cybos Plus - 주문 초기화 완료\n"
     ]
    },
    {
     "data": {
      "text/plain": [
       "True"
      ]
     },
     "execution_count": 5,
     "metadata": {},
     "output_type": "execute_result"
    }
   ],
   "source": [
    "# 상태 체크\n",
    "def init_pluscheck():\n",
    "    # 프로세스가 관리자 권한으로 실행 여부\n",
    "    if ctypes.windll.shell32.IsUserAnAdmin():\n",
    "        print('Cybos Plus - 정상 (관리자권한으로 실행된 프로세스입니다.)')\n",
    "    else:\n",
    "        print('Cybos Plus - 오류 (일반권한으로 실행됨. 관리자 권한으로 실행해 주세요)')\n",
    "        return False\n",
    " \n",
    "    # 연결 여부 체크\n",
    "    if (obj_cpStatus.IsConnect == 0):\n",
    "        print(\"Cybos Plus - PLUS 가 정상적으로 연결되지 않음. \")\n",
    "        return False\n",
    "    \n",
    "    # 주문 관련 초기화\n",
    "    if (obj_cpTrade.TradeInit(0) != 0):\n",
    "        print(\"Cybos Plus - 주문 초기화 실패\")\n",
    "        return False\n",
    "    else:\n",
    "        print('Cybos Plus - 주문 초기화 완료')\n",
    "    return True\n",
    "\n",
    "init_pluscheck() # 초기화"
   ]
  },
  {
   "cell_type": "code",
   "execution_count": 8,
   "metadata": {},
   "outputs": [],
   "source": [
    "form = uic.loadUiType('C:\\\\Users\\\\김민수\\\\Desktop\\\\Trader_watch.ui')[0] # UI 로드\n",
    "\n",
    "class myWindow(QMainWindow, form):\n",
    "    def __init__(self):\n",
    "        super().__init__()\n",
    "        self.setupUi(self) # UI 셋팅\n",
    "        self.setTableWidgetData()\n",
    "        \n",
    "        # 모듈 로드\n",
    "        self.obj_watch = cybos_watch.Watch(obj_codeMgr) # 전략 감시 모듈\n",
    "        self.obj_trade = cybos_trade.Trade(obj_cpTrade.AccountNumber[0], self) # 매매 거래 모듈\n",
    "        self.obj_inquiry = cybos_inquiry.Inquiry() # 잔고 및 미체결 조회 모듈\n",
    "\n",
    "        # -- UI 이벤트 콜백함수 등록 --\n",
    "        self.btn_watch.clicked.connect(self.btn_watch_clicked) # 감시 시작/중지\n",
    "        \n",
    "    def setTableWidgetData(self):\n",
    "        list = QListWidget()\n",
    "        item = QListWidgetItem(list)\n",
    "        item_widget = CustomQWidget()\n",
    "        item.setSizeHint(item_widget.sizeHint())\n",
    "        list.addItem(item)\n",
    "        list.setItemWidget(item, item_widget)\n",
    "\n",
    "        list.addItem(\"string displayed as string\")\n",
    "\n",
    "        item2 = QListWidgetItem(list)\n",
    "        item_widget2 = CustomQWidget()\n",
    "        item2.setSizeHint(item_widget2.sizeHint())\n",
    "        list.addItem(item2)\n",
    "        list.setItemWidget(item2, item_widget2)\n",
    "\n",
    "        \n",
    "    # -----------\n",
    "    # - 이벤트 함수  \n",
    "    # ---------\n",
    "    \n",
    "    # 감시 시작 / 중지\n",
    "    def btn_watch_clicked(self):\n",
    "        '''if(is_watching):\n",
    "            감시중지\n",
    "        else:\n",
    "            감시시작'''\n",
    "        pass\n",
    "    \n",
    "    #def "
   ]
  },
  {
   "cell_type": "code",
   "execution_count": 9,
   "metadata": {},
   "outputs": [
    {
     "name": "stdout",
     "output_type": "stream",
     "text": [
      "QApplication instance already exists: <PyQt5.QtWidgets.QApplication object at 0x0667F0D0>\n",
      "종목검색 전략수: 1\n",
      "{'전략명': '단타1', 'ID': 'xUK1IzWmSB6/EjK0OOGeUQ', '전략등록일시': '2019/07/31 21:38', '작성자필명': '', '평균종목수': 7, '평균승률': 0.4029, '평균수익': -0.0037}\n",
      "335021511 10\n",
      "통신상태 0 3700 모의투자 조회완료 되었습니다(cii.cif.astbln.selcnsbaseaccpt)\n",
      "A002230 현금신용 현금\n",
      "A003310 현금신용 현금\n",
      "통신상태 0 0027 조회가 완료되었습니다.(market.eye)\n"
     ]
    }
   ],
   "source": [
    "if __name__ == \"__main__\":\n",
    "    \n",
    "    # 창 닫아도 주피터에서 다시 열수있게 - cmd 실행땐 삭제\n",
    "    app = QApplication.instance()\n",
    "    if app is None:\n",
    "        app = QApplication(sys.argv)\n",
    "    else:\n",
    "        print('QApplication instance already exists: %s' % str(app))\n",
    "\n",
    "    window = myWindow()\n",
    "    #window.setGeometry(100, 100, 500, 300)\n",
    "    #window.setWindowTitle(\"PyQT Tuts!\")\n",
    "    window.show()\n",
    "    app.exec_()\n",
    "    app.exit()"
   ]
  },
  {
   "cell_type": "code",
   "execution_count": 1,
   "metadata": {},
   "outputs": [
    {
     "ename": "SystemExit",
     "evalue": "0",
     "output_type": "error",
     "traceback": [
      "An exception has occurred, use %tb to see the full traceback.\n",
      "\u001b[1;31mSystemExit\u001b[0m\u001b[1;31m:\u001b[0m 0\n"
     ]
    },
    {
     "name": "stderr",
     "output_type": "stream",
     "text": [
      "C:\\Anaconda\\envs\\py36_32\\lib\\site-packages\\IPython\\core\\interactiveshell.py:3304: UserWarning: To exit: use 'exit', 'quit', or Ctrl-D.\n",
      "  warn(\"To exit: use 'exit', 'quit', or Ctrl-D.\", stacklevel=1)\n"
     ]
    }
   ],
   "source": [
    "import sys\n",
    "from PyQt5.QtWidgets import QApplication, QWidget, QListWidget, QVBoxLayout, QLabel, QPushButton, QListWidgetItem, \\\n",
    "    QHBoxLayout\n",
    "\n",
    "\n",
    "class CustomQWidget(QWidget):\n",
    "    def __init__(self, parent=None):\n",
    "        super(CustomQWidget, self).__init__(parent)\n",
    "\n",
    "        label = QLabel(\"I am a custom widget\")\n",
    "\n",
    "        button = QPushButton(\"A useless button\")\n",
    "\n",
    "        layout = QHBoxLayout()\n",
    "        layout.addWidget(label)\n",
    "        layout.addWidget(button)\n",
    "\n",
    "        self.setLayout(layout)\n",
    "\n",
    "if __name__ == '__main__':\n",
    "    app = QApplication(sys.argv)\n",
    "    window = QWidget()\n",
    "\n",
    "    title = QLabel(\"Demo for widgets in a QListWidget\")\n",
    "\n",
    "    list = QListWidget()\n",
    "\n",
    "    item = QListWidgetItem(list)\n",
    "    item_widget = CustomQWidget()\n",
    "    item.setSizeHint(item_widget.sizeHint())\n",
    "    list.addItem(item)\n",
    "    list.setItemWidget(item, item_widget)\n",
    "\n",
    "    list.addItem(\"string displayed as string\")\n",
    "\n",
    "    item2 = QListWidgetItem(list)\n",
    "    item_widget2 = CustomQWidget()\n",
    "    item2.setSizeHint(item_widget2.sizeHint())\n",
    "    list.addItem(item2)\n",
    "    list.setItemWidget(item2, item_widget2)\n",
    "\n",
    "    window_layout = QVBoxLayout(window)\n",
    "    window_layout.addWidget(title)\n",
    "    window_layout.addWidget(list)\n",
    "    window.setLayout(window_layout)\n",
    "\n",
    "    window.show()\n",
    "\n",
    "    sys.exit(app.exec_())"
   ]
  }
 ],
 "metadata": {
  "kernelspec": {
   "display_name": "Python 3",
   "language": "python",
   "name": "python3"
  },
  "language_info": {
   "codemirror_mode": {
    "name": "ipython",
    "version": 3
   },
   "file_extension": ".py",
   "mimetype": "text/x-python",
   "name": "python",
   "nbconvert_exporter": "python",
   "pygments_lexer": "ipython3",
   "version": "3.6.8"
  }
 },
 "nbformat": 4,
 "nbformat_minor": 2
}
