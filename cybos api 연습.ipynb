{
 "cells": [
  {
   "cell_type": "markdown",
   "metadata": {},
   "source": [
    "# Cybos Plus API 연습\n",
    "---\n",
    "## 주의\n",
    "* 증권사 api 는 python 32 bit 환경에서만 돌아감.\n",
    "* 32 bit jupyter 를 반드시 관리자 권한으로 실행"
   ]
  },
  {
   "cell_type": "markdown",
   "metadata": {},
   "source": [
    "## 연결 상태 확인\n",
    "* cybos plus 에 로그인 해야 가능한듯?"
   ]
  },
  {
   "cell_type": "code",
   "execution_count": 34,
   "metadata": {},
   "outputs": [
    {
     "name": "stdout",
     "output_type": "stream",
     "text": [
      "결과 : 1\n"
     ]
    }
   ],
   "source": [
    "import win32com.client\n",
    "instCpCybos = win32com.client.Dispatch(\"CpUtil.CpCybos\") # CyUil 에 있는 CpCybos 클래스 기져와서 객체 생성\n",
    "print('결과 : ' + str(instCpCybos.IsConnect)) # 연결되면 1, 안되면 0"
   ]
  },
  {
   "cell_type": "markdown",
   "metadata": {},
   "source": [
    "## 주식코드 조회\n",
    "---\n",
    "* 상장된 종목 데이터 다루기"
   ]
  },
  {
   "cell_type": "code",
   "execution_count": 29,
   "metadata": {},
   "outputs": [
    {
     "name": "stdout",
     "output_type": "stream",
     "text": [
      "3167\n",
      "동화약품\n",
      "A035420 886\n"
     ]
    }
   ],
   "source": [
    "stockCode = win32com.client.Dispatch(\"CpUtil.CpStockCode\")\n",
    "print(stockCode.GetCount()) # 상장된 모든 종목 수\n",
    "print(stockCode.GetData(1, 0)) # 첫 번째 인자의 값이 0이면 종목 코드를, 1이면 종목명을, 2면 FullCode를 리턴합니다.\n",
    "\n",
    "# code 찾기\n",
    "code_naver = stockCode.NameToCode('NAVER')\n",
    "index_naver = stockCode.CodeToIndex(code_naver)\n",
    "print(code_naver, index_naver) # 종목이름으로 code 와 code index 검색"
   ]
  },
  {
   "cell_type": "markdown",
   "metadata": {},
   "source": [
    "## 종목코드 가져오기"
   ]
  },
  {
   "cell_type": "code",
   "execution_count": 44,
   "metadata": {},
   "outputs": [],
   "source": [
    "cpCodeMgr = win32com.client.Dispatch('CpUtil.CpCodeMgr') # CpCodeMgr 클래스 객체 생성\n",
    "codeList = cpCodeMgr.GetStockListByMarket(1) # 인자는 시장구분, 인자가 1 이면 유가증권시장\n",
    "#print(codeList)\n",
    "\n",
    "# 딕셔너리로 이름과 코드 저장\n",
    "kospi = {}\n",
    "for code in codeList:\n",
    "    name = cpCodeMgr.CodeToName(code)\n",
    "    kospi[code] = name\n",
    "    pass\n",
    "\n",
    "# csv 로 저장\n",
    "f = open('c:\\\\Users\\\\김민수\\\\Desktop\\\\stock.csv', 'w')\n",
    "for key, value in kospi.items():\n",
    "    f.write(\"%s,%s\\n\" % (key, value))\n",
    "f.close()"
   ]
  },
  {
   "cell_type": "markdown",
   "metadata": {},
   "source": [
    "## 과거 데이터 가져오기\n",
    "---\n",
    "* StockChart 클래스는 RQ/RP 통신 방식\n",
    "* 다른 통신방식으로 SB/PB 방식도 있음"
   ]
  },
  {
   "cell_type": "code",
   "execution_count": 49,
   "metadata": {},
   "outputs": [
    {
     "name": "stdout",
     "output_type": "stream",
     "text": [
      "10\n",
      "13100\n",
      "13150\n",
      "13050\n",
      "12950\n",
      "13150\n",
      "13450\n",
      "13450\n",
      "13400\n",
      "13900\n",
      "13950\n"
     ]
    }
   ],
   "source": [
    "stockChart = win32com.client.Dispatch('CpSysDib.StockChart')\n",
    "stockChart.SetInputValue(0, 'A003540') # 요청하려는 데이터 셋팅, 첫번째 인자는 타입(0 은 종목코드), 두번쨰 인자는 값,\n",
    "stockChart.SetInputValue(1, ord('2')) # 1 은 해당 종목조회방식을 지정, 1 은 기간, 2 는 갯수\n",
    "stockChart.SetInputValue(4, 10) # 4 는 요청갯수, 일(day) 단위\n",
    "stockChart.SetInputValue(5, 5) # 5 는 조회데이터 종류, 뒤 인자 5 는 종가데이터\n",
    "stockChart.SetInputValue(6, ord('D')) # 6 은 차트 종류\n",
    "stockChart.SetInputValue(9, ord('1'))\n",
    "\n",
    "# blockRequest 는 서버에서 응답이 오기전까지 대기한다.\n",
    "stockChart.BlockRequest()\n",
    "numData = stockChart.GetHeaderValue(3)\n",
    "print(numData)\n",
    "\n",
    "# 위에서 요청한 10일간 종가데이터 조회\n",
    "for i in range(numData):\n",
    "    print(stockChart.GetDataValue(0, i))"
   ]
  },
  {
   "cell_type": "code",
   "execution_count": 59,
   "metadata": {},
   "outputs": [
    {
     "name": "stdout",
     "output_type": "stream",
     "text": [
      "10\n",
      "20190712 13200 13200 13050 13100 41145 \n",
      "20190711 13050 13200 12950 13150 98833 \n",
      "20190710 13000 13100 12850 13050 101875 \n",
      "20190709 13100 13250 12950 12950 91520 \n",
      "20190708 13400 13400 13050 13150 179265 \n",
      "20190705 13450 13550 13300 13450 164548 \n",
      "20190704 13400 13500 13250 13450 111843 \n",
      "20190703 13900 13900 13250 13400 249028 \n",
      "20190702 13950 13950 13750 13900 78153 \n",
      "20190701 13900 14050 13800 13950 131590 \n"
     ]
    }
   ],
   "source": [
    "stockChart = win32com.client.Dispatch('CpSysDib.StockChart')\n",
    "stockChart.SetInputValue(0, 'A003540')\n",
    "stockChart.SetInputValue(1, ord('2'))\n",
    "stockChart.SetInputValue(4, 10)\n",
    "stockChart.SetInputValue(5, (0, 2, 3, 4, 5, 8)) # (일자, 시가, 고가, 저가, 종가, 거래량) 요청\n",
    "stockChart.SetInputValue(6, ord('D'))\n",
    "stockChart.SetInputValue(9, ord('1'))\n",
    "\n",
    "stockChart.BlockRequest()\n",
    "numData = stockChart.GetHeaderValue(3)\n",
    "numField = stockChart.GetHeaderValue(1)\n",
    "print(numData)\n",
    "\n",
    "# 6 개의 데이터를 중첩 for 문으로 모두 출력\n",
    "for i in range(numData):\n",
    "    for d in range(numField):\n",
    "        print(stockChart.GetDataValue(d, i), end=' ')\n",
    "    print('')"
   ]
  },
  {
   "cell_type": "markdown",
   "metadata": {},
   "source": [
    "# bookmark\n",
    "https://wikidocs.net/3685"
   ]
  }
 ],
 "metadata": {
  "kernelspec": {
   "display_name": "Python 3",
   "language": "python",
   "name": "python3"
  },
  "language_info": {
   "codemirror_mode": {
    "name": "ipython",
    "version": 3
   },
   "file_extension": ".py",
   "mimetype": "text/x-python",
   "name": "python",
   "nbconvert_exporter": "python",
   "pygments_lexer": "ipython3",
   "version": "3.6.8"
  }
 },
 "nbformat": 4,
 "nbformat_minor": 2
}
