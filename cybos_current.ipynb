{
 "cells": [
  {
   "cell_type": "code",
   "execution_count": 2,
   "metadata": {},
   "outputs": [],
   "source": [
    "import win32com.client\n",
    "\n",
    "def data_current(objStockMst, code):\n",
    "    objStockMst.SetInputValue(0, code)   #종목 코드\n",
    "    objStockMst.BlockRequest()\n",
    "\n",
    "    # 현재가 통신 및 통신 에러 처리 \n",
    "    rqStatus = objStockMst.GetDibStatus()\n",
    "    rqRet = objStockMst.GetDibMsg1()\n",
    "    print(\"통신상태\", rqStatus, rqRet)\n",
    "    if rqStatus != 0:\n",
    "        exit()\n",
    "\n",
    "    data = {}\n",
    "    # 현재가 정보 조회\n",
    "    data['code'] = objStockMst.GetHeaderValue(0)  #종목코드\n",
    "    data['name'] = objStockMst.GetHeaderValue(1)  # 종목명\n",
    "    data['time'] = objStockMst.GetHeaderValue(4)  # 시간\n",
    "    data['cprice']= objStockMst.GetHeaderValue(11) # 종가\n",
    "    data['diff'] = objStockMst.GetHeaderValue(12)  # 대비\n",
    "    data['open'] = objStockMst.GetHeaderValue(13)  # 시가\n",
    "    data['high'] = objStockMst.GetHeaderValue(14)  # 고가\n",
    "    data['low'] = objStockMst.GetHeaderValue(15)   # 저가\n",
    "    data['offer'] = objStockMst.GetHeaderValue(16)  #매도호가\n",
    "    data['bid'] = objStockMst.GetHeaderValue(17)   #매수호가\n",
    "    data['vol'] = objStockMst.GetHeaderValue(18)   #거래량\n",
    "    data['vol_value'] = objStockMst.GetHeaderValue(19)  #거래대금\n",
    "\n",
    "    # 예상 체결관련 정보\n",
    "    data['exFlag'] = objStockMst.GetHeaderValue(58) #예상체결가 구분 플래그\n",
    "    data['exPrice'] = objStockMst.GetHeaderValue(55) #예상체결가\n",
    "    data['exDiff'] = objStockMst.GetHeaderValue(56) #예상체결가 전일대비\n",
    "    data['exVol'] = objStockMst.GetHeaderValue(57) #예상체결수량\n",
    "    \n",
    "    return data"
   ]
  }
 ],
 "metadata": {
  "kernelspec": {
   "display_name": "Python 3",
   "language": "python",
   "name": "python3"
  },
  "language_info": {
   "codemirror_mode": {
    "name": "ipython",
    "version": 3
   },
   "file_extension": ".py",
   "mimetype": "text/x-python",
   "name": "python",
   "nbconvert_exporter": "python",
   "pygments_lexer": "ipython3",
   "version": "3.6.8"
  }
 },
 "nbformat": 4,
 "nbformat_minor": 2
}
